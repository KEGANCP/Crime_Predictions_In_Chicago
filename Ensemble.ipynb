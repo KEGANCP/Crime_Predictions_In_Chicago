{
 "cells": [
  {
   "cell_type": "code",
   "execution_count": 1,
   "id": "e8b8792b",
   "metadata": {},
   "outputs": [],
   "source": [
    "import pandas as pd\n",
    "import numpy as np\n",
    "from path import Path\n",
    "from sklearn import tree\n",
    "from imblearn.ensemble import BalancedRandomForestClassifier\n",
    "from imblearn.ensemble import EasyEnsembleClassifier\n",
    "from imblearn.metrics import classification_report_imbalanced\n",
    "from sklearn.preprocessing import StandardScaler, OneHotEncoder\n",
    "from sklearn.model_selection import train_test_split\n",
    "from sklearn.metrics import confusion_matrix, accuracy_score, classification_report, balanced_accuracy_score\n",
    "from sklearn.svm import SVC"
   ]
  },
  {
   "cell_type": "code",
   "execution_count": 2,
   "id": "6abc7e7b",
   "metadata": {},
   "outputs": [],
   "source": [
    "# # import the modules\n",
    "# import pandas as pd\n",
    "# from sqlalchemy import create_engine\n",
    "\n",
    "# # SQLAlchemy connectable\n",
    "# crm = create_engine('sqlite:///chicago_crime.db').connect()\n",
    "\n",
    "# # table named 'crime_data' will be returned as a dataframe.\n",
    "# df = pd.read_sql_table('crime_data', crm)\n",
    "# print(df)"
   ]
  },
  {
   "cell_type": "code",
   "execution_count": 3,
   "id": "8dbdae49",
   "metadata": {
    "scrolled": false
   },
   "outputs": [
    {
     "name": "stdout",
     "output_type": "stream",
     "text": [
      "(206997, 18)\n"
     ]
    },
    {
     "data": {
      "text/html": [
       "<div>\n",
       "<style scoped>\n",
       "    .dataframe tbody tr th:only-of-type {\n",
       "        vertical-align: middle;\n",
       "    }\n",
       "\n",
       "    .dataframe tbody tr th {\n",
       "        vertical-align: top;\n",
       "    }\n",
       "\n",
       "    .dataframe thead th {\n",
       "        text-align: right;\n",
       "    }\n",
       "</style>\n",
       "<table border=\"1\" class=\"dataframe\">\n",
       "  <thead>\n",
       "    <tr style=\"text-align: right;\">\n",
       "      <th></th>\n",
       "      <th>ID.1</th>\n",
       "      <th>Block</th>\n",
       "      <th>IUCR</th>\n",
       "      <th>Primary Type</th>\n",
       "      <th>Violence Status</th>\n",
       "      <th>Description</th>\n",
       "      <th>Location Description</th>\n",
       "      <th>Arrest</th>\n",
       "      <th>Domestic</th>\n",
       "      <th>District</th>\n",
       "      <th>Ward</th>\n",
       "      <th>Community Area</th>\n",
       "      <th>FBI Code</th>\n",
       "      <th>Year</th>\n",
       "      <th>Latitude</th>\n",
       "      <th>Longitude</th>\n",
       "      <th>Date</th>\n",
       "      <th>Time</th>\n",
       "    </tr>\n",
       "    <tr>\n",
       "      <th>ID</th>\n",
       "      <th></th>\n",
       "      <th></th>\n",
       "      <th></th>\n",
       "      <th></th>\n",
       "      <th></th>\n",
       "      <th></th>\n",
       "      <th></th>\n",
       "      <th></th>\n",
       "      <th></th>\n",
       "      <th></th>\n",
       "      <th></th>\n",
       "      <th></th>\n",
       "      <th></th>\n",
       "      <th></th>\n",
       "      <th></th>\n",
       "      <th></th>\n",
       "      <th></th>\n",
       "      <th></th>\n",
       "    </tr>\n",
       "  </thead>\n",
       "  <tbody>\n",
       "    <tr>\n",
       "      <th>6909918</th>\n",
       "      <td>12260346</td>\n",
       "      <td>070XX S EGGLESTON AVE</td>\n",
       "      <td>0486</td>\n",
       "      <td>BATTERY</td>\n",
       "      <td>VIOLENT</td>\n",
       "      <td>DOMESTIC BATTERY SIMPLE</td>\n",
       "      <td>APARTMENT</td>\n",
       "      <td>False</td>\n",
       "      <td>True</td>\n",
       "      <td>7.0</td>\n",
       "      <td>6.0</td>\n",
       "      <td>68.0</td>\n",
       "      <td>08B</td>\n",
       "      <td>2021</td>\n",
       "      <td>41.766435</td>\n",
       "      <td>-87.635964</td>\n",
       "      <td>2021-01-03</td>\n",
       "      <td>13:23:00</td>\n",
       "    </tr>\n",
       "    <tr>\n",
       "      <th>6927718</th>\n",
       "      <td>12263464</td>\n",
       "      <td>080XX S YALE AVE</td>\n",
       "      <td>0820</td>\n",
       "      <td>THEFT</td>\n",
       "      <td>NON-VIOLENT</td>\n",
       "      <td>$500 AND UNDER</td>\n",
       "      <td>RESIDENCE</td>\n",
       "      <td>False</td>\n",
       "      <td>False</td>\n",
       "      <td>6.0</td>\n",
       "      <td>17.0</td>\n",
       "      <td>44.0</td>\n",
       "      <td>06</td>\n",
       "      <td>2021</td>\n",
       "      <td>41.748474</td>\n",
       "      <td>-87.630607</td>\n",
       "      <td>2021-01-03</td>\n",
       "      <td>06:59:00</td>\n",
       "    </tr>\n",
       "    <tr>\n",
       "      <th>6927807</th>\n",
       "      <td>12259990</td>\n",
       "      <td>056XX W WASHINGTON BLVD</td>\n",
       "      <td>0486</td>\n",
       "      <td>BATTERY</td>\n",
       "      <td>VIOLENT</td>\n",
       "      <td>DOMESTIC BATTERY SIMPLE</td>\n",
       "      <td>APARTMENT</td>\n",
       "      <td>False</td>\n",
       "      <td>True</td>\n",
       "      <td>15.0</td>\n",
       "      <td>29.0</td>\n",
       "      <td>25.0</td>\n",
       "      <td>08B</td>\n",
       "      <td>2021</td>\n",
       "      <td>41.882224</td>\n",
       "      <td>-87.766076</td>\n",
       "      <td>2021-01-03</td>\n",
       "      <td>00:20:00</td>\n",
       "    </tr>\n",
       "    <tr>\n",
       "      <th>6931849</th>\n",
       "      <td>12260669</td>\n",
       "      <td>057XX S RACINE AVE</td>\n",
       "      <td>2022</td>\n",
       "      <td>NARCOTICS</td>\n",
       "      <td>NON-VIOLENT</td>\n",
       "      <td>POSSESS - COCAINE</td>\n",
       "      <td>STREET</td>\n",
       "      <td>True</td>\n",
       "      <td>False</td>\n",
       "      <td>7.0</td>\n",
       "      <td>16.0</td>\n",
       "      <td>67.0</td>\n",
       "      <td>18</td>\n",
       "      <td>2021</td>\n",
       "      <td>41.790069</td>\n",
       "      <td>-87.654769</td>\n",
       "      <td>2021-01-03</td>\n",
       "      <td>20:47:00</td>\n",
       "    </tr>\n",
       "    <tr>\n",
       "      <th>6931854</th>\n",
       "      <td>25702</td>\n",
       "      <td>068XX S STONY ISLAND AVE</td>\n",
       "      <td>0110</td>\n",
       "      <td>HOMICIDE</td>\n",
       "      <td>VIOLENT</td>\n",
       "      <td>FIRST DEGREE MURDER</td>\n",
       "      <td>STREET</td>\n",
       "      <td>False</td>\n",
       "      <td>False</td>\n",
       "      <td>3.0</td>\n",
       "      <td>5.0</td>\n",
       "      <td>43.0</td>\n",
       "      <td>01A</td>\n",
       "      <td>2021</td>\n",
       "      <td>41.771062</td>\n",
       "      <td>-87.586271</td>\n",
       "      <td>2021-01-03</td>\n",
       "      <td>20:09:00</td>\n",
       "    </tr>\n",
       "  </tbody>\n",
       "</table>\n",
       "</div>"
      ],
      "text/plain": [
       "             ID.1                     Block  IUCR Primary Type  \\\n",
       "ID                                                               \n",
       "6909918  12260346     070XX S EGGLESTON AVE  0486      BATTERY   \n",
       "6927718  12263464          080XX S YALE AVE  0820        THEFT   \n",
       "6927807  12259990   056XX W WASHINGTON BLVD  0486      BATTERY   \n",
       "6931849  12260669        057XX S RACINE AVE  2022    NARCOTICS   \n",
       "6931854     25702  068XX S STONY ISLAND AVE  0110     HOMICIDE   \n",
       "\n",
       "        Violence Status              Description Location Description  Arrest  \\\n",
       "ID                                                                              \n",
       "6909918         VIOLENT  DOMESTIC BATTERY SIMPLE            APARTMENT   False   \n",
       "6927718     NON-VIOLENT           $500 AND UNDER            RESIDENCE   False   \n",
       "6927807         VIOLENT  DOMESTIC BATTERY SIMPLE            APARTMENT   False   \n",
       "6931849     NON-VIOLENT        POSSESS - COCAINE               STREET    True   \n",
       "6931854         VIOLENT      FIRST DEGREE MURDER               STREET   False   \n",
       "\n",
       "         Domestic  District  Ward  Community Area FBI Code  Year   Latitude  \\\n",
       "ID                                                                            \n",
       "6909918      True       7.0   6.0            68.0      08B  2021  41.766435   \n",
       "6927718     False       6.0  17.0            44.0       06  2021  41.748474   \n",
       "6927807      True      15.0  29.0            25.0      08B  2021  41.882224   \n",
       "6931849     False       7.0  16.0            67.0       18  2021  41.790069   \n",
       "6931854     False       3.0   5.0            43.0      01A  2021  41.771062   \n",
       "\n",
       "         Longitude        Date      Time  \n",
       "ID                                        \n",
       "6909918 -87.635964  2021-01-03  13:23:00  \n",
       "6927718 -87.630607  2021-01-03  06:59:00  \n",
       "6927807 -87.766076  2021-01-03  00:20:00  \n",
       "6931849 -87.654769  2021-01-03  20:47:00  \n",
       "6931854 -87.586271  2021-01-03  20:09:00  "
      ]
     },
     "execution_count": 3,
     "metadata": {},
     "output_type": "execute_result"
    }
   ],
   "source": [
    "# Loading crime data\n",
    "file_path = Path(\"Resources/sample_crime_data.csv\")\n",
    "df = pd.read_csv(file_path)\n",
    "df = df.set_index(\"ID\")\n",
    "print(df.shape)\n",
    "df.head()"
   ]
  },
  {
   "cell_type": "code",
   "execution_count": 4,
   "id": "e033af04",
   "metadata": {},
   "outputs": [
    {
     "data": {
      "text/plain": [
       "NON-VIOLENT    135435\n",
       "VIOLENT         71562\n",
       "Name: Violence Status, dtype: int64"
      ]
     },
     "execution_count": 4,
     "metadata": {},
     "output_type": "execute_result"
    }
   ],
   "source": [
    "df['Violence Status'].value_counts()"
   ]
  },
  {
   "cell_type": "code",
   "execution_count": 5,
   "id": "2e482969",
   "metadata": {},
   "outputs": [],
   "source": [
    "street_df = df[(df['Location Description'] == 'STREET') & (df['Date'] >= '2015-01-01')]"
   ]
  },
  {
   "cell_type": "code",
   "execution_count": 6,
   "id": "7849d473",
   "metadata": {},
   "outputs": [
    {
     "name": "stdout",
     "output_type": "stream",
     "text": [
      "(52382, 3)\n"
     ]
    },
    {
     "data": {
      "text/html": [
       "<div>\n",
       "<style scoped>\n",
       "    .dataframe tbody tr th:only-of-type {\n",
       "        vertical-align: middle;\n",
       "    }\n",
       "\n",
       "    .dataframe tbody tr th {\n",
       "        vertical-align: top;\n",
       "    }\n",
       "\n",
       "    .dataframe thead th {\n",
       "        text-align: right;\n",
       "    }\n",
       "</style>\n",
       "<table border=\"1\" class=\"dataframe\">\n",
       "  <thead>\n",
       "    <tr style=\"text-align: right;\">\n",
       "      <th></th>\n",
       "      <th>Violence Status</th>\n",
       "      <th>Community Area</th>\n",
       "      <th>Date</th>\n",
       "    </tr>\n",
       "    <tr>\n",
       "      <th>ID</th>\n",
       "      <th></th>\n",
       "      <th></th>\n",
       "      <th></th>\n",
       "    </tr>\n",
       "  </thead>\n",
       "  <tbody>\n",
       "    <tr>\n",
       "      <th>6931849</th>\n",
       "      <td>NON-VIOLENT</td>\n",
       "      <td>67.0</td>\n",
       "      <td>2021-01-03</td>\n",
       "    </tr>\n",
       "    <tr>\n",
       "      <th>6931854</th>\n",
       "      <td>VIOLENT</td>\n",
       "      <td>43.0</td>\n",
       "      <td>2021-01-03</td>\n",
       "    </tr>\n",
       "    <tr>\n",
       "      <th>6940399</th>\n",
       "      <td>NON-VIOLENT</td>\n",
       "      <td>43.0</td>\n",
       "      <td>2021-01-03</td>\n",
       "    </tr>\n",
       "    <tr>\n",
       "      <th>6940417</th>\n",
       "      <td>NON-VIOLENT</td>\n",
       "      <td>41.0</td>\n",
       "      <td>2021-01-03</td>\n",
       "    </tr>\n",
       "    <tr>\n",
       "      <th>6955690</th>\n",
       "      <td>NON-VIOLENT</td>\n",
       "      <td>75.0</td>\n",
       "      <td>2021-01-03</td>\n",
       "    </tr>\n",
       "  </tbody>\n",
       "</table>\n",
       "</div>"
      ],
      "text/plain": [
       "        Violence Status  Community Area        Date\n",
       "ID                                                 \n",
       "6931849     NON-VIOLENT            67.0  2021-01-03\n",
       "6931854         VIOLENT            43.0  2021-01-03\n",
       "6940399     NON-VIOLENT            43.0  2021-01-03\n",
       "6940417     NON-VIOLENT            41.0  2021-01-03\n",
       "6955690     NON-VIOLENT            75.0  2021-01-03"
      ]
     },
     "execution_count": 6,
     "metadata": {},
     "output_type": "execute_result"
    }
   ],
   "source": [
    "street_df = street_df.drop(columns=['ID.1', 'Block', 'IUCR', 'Description', 'Primary Type','Location Description','Arrest','Domestic',\n",
    "                                    'FBI Code', 'Year', 'Ward', 'District', 'Time', 'Latitude', 'Longitude'])\n",
    "print(street_df.shape)\n",
    "street_df.head()"
   ]
  },
  {
   "cell_type": "code",
   "execution_count": 7,
   "id": "e02e15d3",
   "metadata": {},
   "outputs": [
    {
     "name": "stdout",
     "output_type": "stream",
     "text": [
      "(206997, 18)\n"
     ]
    },
    {
     "data": {
      "text/html": [
       "<div>\n",
       "<style scoped>\n",
       "    .dataframe tbody tr th:only-of-type {\n",
       "        vertical-align: middle;\n",
       "    }\n",
       "\n",
       "    .dataframe tbody tr th {\n",
       "        vertical-align: top;\n",
       "    }\n",
       "\n",
       "    .dataframe thead th {\n",
       "        text-align: right;\n",
       "    }\n",
       "</style>\n",
       "<table border=\"1\" class=\"dataframe\">\n",
       "  <thead>\n",
       "    <tr style=\"text-align: right;\">\n",
       "      <th></th>\n",
       "      <th>Date</th>\n",
       "      <th>Average_Wind_Speed</th>\n",
       "      <th>Average_Temperature</th>\n",
       "      <th>Maximum_Temperature</th>\n",
       "      <th>Minimum_Temperature</th>\n",
       "      <th>Fog_Ice_Freezing_Fog</th>\n",
       "      <th>Heavy_Fog_or_Heavy_Freezing_Fog</th>\n",
       "      <th>Thunder</th>\n",
       "      <th>Hail</th>\n",
       "      <th>Smoke_or_Haze</th>\n",
       "      <th>Mist</th>\n",
       "      <th>Rain</th>\n",
       "      <th>Freezing_Rain</th>\n",
       "      <th>Snow_Snow_Pellets_or_Ice Crystals</th>\n",
       "    </tr>\n",
       "  </thead>\n",
       "  <tbody>\n",
       "    <tr>\n",
       "      <th>0</th>\n",
       "      <td>2010-01-01</td>\n",
       "      <td>10.29</td>\n",
       "      <td>NaN</td>\n",
       "      <td>16.0</td>\n",
       "      <td>5.0</td>\n",
       "      <td>NaN</td>\n",
       "      <td>NaN</td>\n",
       "      <td>NaN</td>\n",
       "      <td>NaN</td>\n",
       "      <td>NaN</td>\n",
       "      <td>NaN</td>\n",
       "      <td>NaN</td>\n",
       "      <td>NaN</td>\n",
       "      <td>1.0</td>\n",
       "    </tr>\n",
       "    <tr>\n",
       "      <th>1</th>\n",
       "      <td>2010-01-02</td>\n",
       "      <td>11.86</td>\n",
       "      <td>NaN</td>\n",
       "      <td>11.0</td>\n",
       "      <td>2.0</td>\n",
       "      <td>NaN</td>\n",
       "      <td>NaN</td>\n",
       "      <td>NaN</td>\n",
       "      <td>NaN</td>\n",
       "      <td>NaN</td>\n",
       "      <td>NaN</td>\n",
       "      <td>NaN</td>\n",
       "      <td>NaN</td>\n",
       "      <td>NaN</td>\n",
       "    </tr>\n",
       "    <tr>\n",
       "      <th>2</th>\n",
       "      <td>2010-01-03</td>\n",
       "      <td>10.29</td>\n",
       "      <td>NaN</td>\n",
       "      <td>18.0</td>\n",
       "      <td>-1.0</td>\n",
       "      <td>NaN</td>\n",
       "      <td>NaN</td>\n",
       "      <td>NaN</td>\n",
       "      <td>NaN</td>\n",
       "      <td>NaN</td>\n",
       "      <td>NaN</td>\n",
       "      <td>1.0</td>\n",
       "      <td>NaN</td>\n",
       "      <td>1.0</td>\n",
       "    </tr>\n",
       "    <tr>\n",
       "      <th>3</th>\n",
       "      <td>2010-01-04</td>\n",
       "      <td>11.41</td>\n",
       "      <td>NaN</td>\n",
       "      <td>18.0</td>\n",
       "      <td>7.0</td>\n",
       "      <td>NaN</td>\n",
       "      <td>NaN</td>\n",
       "      <td>NaN</td>\n",
       "      <td>NaN</td>\n",
       "      <td>NaN</td>\n",
       "      <td>NaN</td>\n",
       "      <td>1.0</td>\n",
       "      <td>NaN</td>\n",
       "      <td>1.0</td>\n",
       "    </tr>\n",
       "    <tr>\n",
       "      <th>4</th>\n",
       "      <td>2010-01-05</td>\n",
       "      <td>8.50</td>\n",
       "      <td>NaN</td>\n",
       "      <td>23.0</td>\n",
       "      <td>13.0</td>\n",
       "      <td>NaN</td>\n",
       "      <td>NaN</td>\n",
       "      <td>NaN</td>\n",
       "      <td>NaN</td>\n",
       "      <td>NaN</td>\n",
       "      <td>NaN</td>\n",
       "      <td>1.0</td>\n",
       "      <td>NaN</td>\n",
       "      <td>1.0</td>\n",
       "    </tr>\n",
       "  </tbody>\n",
       "</table>\n",
       "</div>"
      ],
      "text/plain": [
       "         Date  Average_Wind_Speed  Average_Temperature  Maximum_Temperature  \\\n",
       "0  2010-01-01               10.29                  NaN                 16.0   \n",
       "1  2010-01-02               11.86                  NaN                 11.0   \n",
       "2  2010-01-03               10.29                  NaN                 18.0   \n",
       "3  2010-01-04               11.41                  NaN                 18.0   \n",
       "4  2010-01-05                8.50                  NaN                 23.0   \n",
       "\n",
       "   Minimum_Temperature  Fog_Ice_Freezing_Fog  Heavy_Fog_or_Heavy_Freezing_Fog  \\\n",
       "0                  5.0                   NaN                              NaN   \n",
       "1                  2.0                   NaN                              NaN   \n",
       "2                 -1.0                   NaN                              NaN   \n",
       "3                  7.0                   NaN                              NaN   \n",
       "4                 13.0                   NaN                              NaN   \n",
       "\n",
       "   Thunder  Hail  Smoke_or_Haze  Mist  Rain  Freezing_Rain  \\\n",
       "0      NaN   NaN            NaN   NaN   NaN            NaN   \n",
       "1      NaN   NaN            NaN   NaN   NaN            NaN   \n",
       "2      NaN   NaN            NaN   NaN   1.0            NaN   \n",
       "3      NaN   NaN            NaN   NaN   1.0            NaN   \n",
       "4      NaN   NaN            NaN   NaN   1.0            NaN   \n",
       "\n",
       "   Snow_Snow_Pellets_or_Ice Crystals  \n",
       "0                                1.0  \n",
       "1                                NaN  \n",
       "2                                1.0  \n",
       "3                                1.0  \n",
       "4                                1.0  "
      ]
     },
     "execution_count": 7,
     "metadata": {},
     "output_type": "execute_result"
    }
   ],
   "source": [
    "# Loading weather data\n",
    "file_path = Path(\"Resources/clean_weather_data.csv\")\n",
    "weather_df = pd.read_csv(file_path)\n",
    "#df = df.set_index(\"ID\")\n",
    "print(df.shape)\n",
    "weather_df.head()"
   ]
  },
  {
   "cell_type": "code",
   "execution_count": 8,
   "id": "8994815a",
   "metadata": {},
   "outputs": [],
   "source": [
    "weather_df = weather_df[(weather_df['Date'] >= '2015-01-01')]"
   ]
  },
  {
   "cell_type": "code",
   "execution_count": 9,
   "id": "59439db6",
   "metadata": {},
   "outputs": [
    {
     "name": "stdout",
     "output_type": "stream",
     "text": [
      "(2566, 5)\n"
     ]
    },
    {
     "data": {
      "text/html": [
       "<div>\n",
       "<style scoped>\n",
       "    .dataframe tbody tr th:only-of-type {\n",
       "        vertical-align: middle;\n",
       "    }\n",
       "\n",
       "    .dataframe tbody tr th {\n",
       "        vertical-align: top;\n",
       "    }\n",
       "\n",
       "    .dataframe thead th {\n",
       "        text-align: right;\n",
       "    }\n",
       "</style>\n",
       "<table border=\"1\" class=\"dataframe\">\n",
       "  <thead>\n",
       "    <tr style=\"text-align: right;\">\n",
       "      <th></th>\n",
       "      <th>Date</th>\n",
       "      <th>Average_Wind_Speed</th>\n",
       "      <th>Average_Temperature</th>\n",
       "      <th>Fog_Ice_Freezing_Fog</th>\n",
       "      <th>Smoke_or_Haze</th>\n",
       "    </tr>\n",
       "  </thead>\n",
       "  <tbody>\n",
       "    <tr>\n",
       "      <th>1826</th>\n",
       "      <td>2015-01-01</td>\n",
       "      <td>14.54</td>\n",
       "      <td>20.0</td>\n",
       "      <td>NaN</td>\n",
       "      <td>NaN</td>\n",
       "    </tr>\n",
       "    <tr>\n",
       "      <th>1827</th>\n",
       "      <td>2015-01-02</td>\n",
       "      <td>4.70</td>\n",
       "      <td>26.0</td>\n",
       "      <td>NaN</td>\n",
       "      <td>NaN</td>\n",
       "    </tr>\n",
       "    <tr>\n",
       "      <th>1828</th>\n",
       "      <td>2015-01-03</td>\n",
       "      <td>5.59</td>\n",
       "      <td>31.0</td>\n",
       "      <td>1.0</td>\n",
       "      <td>NaN</td>\n",
       "    </tr>\n",
       "    <tr>\n",
       "      <th>1829</th>\n",
       "      <td>2015-01-04</td>\n",
       "      <td>15.88</td>\n",
       "      <td>29.0</td>\n",
       "      <td>1.0</td>\n",
       "      <td>1.0</td>\n",
       "    </tr>\n",
       "    <tr>\n",
       "      <th>1830</th>\n",
       "      <td>2015-01-05</td>\n",
       "      <td>10.29</td>\n",
       "      <td>2.0</td>\n",
       "      <td>1.0</td>\n",
       "      <td>1.0</td>\n",
       "    </tr>\n",
       "  </tbody>\n",
       "</table>\n",
       "</div>"
      ],
      "text/plain": [
       "            Date  Average_Wind_Speed  Average_Temperature  \\\n",
       "1826  2015-01-01               14.54                 20.0   \n",
       "1827  2015-01-02                4.70                 26.0   \n",
       "1828  2015-01-03                5.59                 31.0   \n",
       "1829  2015-01-04               15.88                 29.0   \n",
       "1830  2015-01-05               10.29                  2.0   \n",
       "\n",
       "      Fog_Ice_Freezing_Fog  Smoke_or_Haze  \n",
       "1826                   NaN            NaN  \n",
       "1827                   NaN            NaN  \n",
       "1828                   1.0            NaN  \n",
       "1829                   1.0            1.0  \n",
       "1830                   1.0            1.0  "
      ]
     },
     "execution_count": 9,
     "metadata": {},
     "output_type": "execute_result"
    }
   ],
   "source": [
    "weather_df = weather_df.drop(columns = ['Heavy_Fog_or_Heavy_Freezing_Fog', 'Mist', 'Freezing_Rain', 'Thunder',\n",
    "                                        'Snow_Snow_Pellets_or_Ice Crystals', 'Hail', 'Rain',\n",
    "                                       'Maximum_Temperature', 'Minimum_Temperature'])\n",
    "print(weather_df.shape)\n",
    "weather_df.head()"
   ]
  },
  {
   "cell_type": "code",
   "execution_count": null,
   "id": "910b53c7",
   "metadata": {},
   "outputs": [],
   "source": []
  },
  {
   "cell_type": "code",
   "execution_count": 10,
   "id": "f27f3491",
   "metadata": {},
   "outputs": [],
   "source": [
    "merged_df = pd.merge(street_df, weather_df, how='left', on='Date')"
   ]
  },
  {
   "cell_type": "code",
   "execution_count": 11,
   "id": "8bb6ced3",
   "metadata": {},
   "outputs": [
    {
     "name": "stdout",
     "output_type": "stream",
     "text": [
      "(52382, 7)\n"
     ]
    },
    {
     "data": {
      "text/html": [
       "<div>\n",
       "<style scoped>\n",
       "    .dataframe tbody tr th:only-of-type {\n",
       "        vertical-align: middle;\n",
       "    }\n",
       "\n",
       "    .dataframe tbody tr th {\n",
       "        vertical-align: top;\n",
       "    }\n",
       "\n",
       "    .dataframe thead th {\n",
       "        text-align: right;\n",
       "    }\n",
       "</style>\n",
       "<table border=\"1\" class=\"dataframe\">\n",
       "  <thead>\n",
       "    <tr style=\"text-align: right;\">\n",
       "      <th></th>\n",
       "      <th>Violence Status</th>\n",
       "      <th>Community Area</th>\n",
       "      <th>Date</th>\n",
       "      <th>Average_Wind_Speed</th>\n",
       "      <th>Average_Temperature</th>\n",
       "      <th>Fog_Ice_Freezing_Fog</th>\n",
       "      <th>Smoke_or_Haze</th>\n",
       "    </tr>\n",
       "  </thead>\n",
       "  <tbody>\n",
       "    <tr>\n",
       "      <th>0</th>\n",
       "      <td>NON-VIOLENT</td>\n",
       "      <td>67.0</td>\n",
       "      <td>2021-01-03</td>\n",
       "      <td>6.93</td>\n",
       "      <td>32.0</td>\n",
       "      <td>1.0</td>\n",
       "      <td>NaN</td>\n",
       "    </tr>\n",
       "    <tr>\n",
       "      <th>1</th>\n",
       "      <td>VIOLENT</td>\n",
       "      <td>43.0</td>\n",
       "      <td>2021-01-03</td>\n",
       "      <td>6.93</td>\n",
       "      <td>32.0</td>\n",
       "      <td>1.0</td>\n",
       "      <td>NaN</td>\n",
       "    </tr>\n",
       "    <tr>\n",
       "      <th>2</th>\n",
       "      <td>NON-VIOLENT</td>\n",
       "      <td>43.0</td>\n",
       "      <td>2021-01-03</td>\n",
       "      <td>6.93</td>\n",
       "      <td>32.0</td>\n",
       "      <td>1.0</td>\n",
       "      <td>NaN</td>\n",
       "    </tr>\n",
       "    <tr>\n",
       "      <th>3</th>\n",
       "      <td>NON-VIOLENT</td>\n",
       "      <td>41.0</td>\n",
       "      <td>2021-01-03</td>\n",
       "      <td>6.93</td>\n",
       "      <td>32.0</td>\n",
       "      <td>1.0</td>\n",
       "      <td>NaN</td>\n",
       "    </tr>\n",
       "    <tr>\n",
       "      <th>4</th>\n",
       "      <td>NON-VIOLENT</td>\n",
       "      <td>75.0</td>\n",
       "      <td>2021-01-03</td>\n",
       "      <td>6.93</td>\n",
       "      <td>32.0</td>\n",
       "      <td>1.0</td>\n",
       "      <td>NaN</td>\n",
       "    </tr>\n",
       "  </tbody>\n",
       "</table>\n",
       "</div>"
      ],
      "text/plain": [
       "  Violence Status  Community Area        Date  Average_Wind_Speed  \\\n",
       "0     NON-VIOLENT            67.0  2021-01-03                6.93   \n",
       "1         VIOLENT            43.0  2021-01-03                6.93   \n",
       "2     NON-VIOLENT            43.0  2021-01-03                6.93   \n",
       "3     NON-VIOLENT            41.0  2021-01-03                6.93   \n",
       "4     NON-VIOLENT            75.0  2021-01-03                6.93   \n",
       "\n",
       "   Average_Temperature  Fog_Ice_Freezing_Fog  Smoke_or_Haze  \n",
       "0                 32.0                   1.0            NaN  \n",
       "1                 32.0                   1.0            NaN  \n",
       "2                 32.0                   1.0            NaN  \n",
       "3                 32.0                   1.0            NaN  \n",
       "4                 32.0                   1.0            NaN  "
      ]
     },
     "execution_count": 11,
     "metadata": {},
     "output_type": "execute_result"
    }
   ],
   "source": [
    "print(merged_df.shape)\n",
    "merged_df.head()"
   ]
  },
  {
   "cell_type": "code",
   "execution_count": 12,
   "id": "b4ae0bd1",
   "metadata": {
    "scrolled": true
   },
   "outputs": [
    {
     "data": {
      "text/plain": [
       "Index(['Violence Status', 'Community Area', 'Date', 'Average_Wind_Speed',\n",
       "       'Average_Temperature', 'Fog_Ice_Freezing_Fog', 'Smoke_or_Haze'],\n",
       "      dtype='object')"
      ]
     },
     "execution_count": 12,
     "metadata": {},
     "output_type": "execute_result"
    }
   ],
   "source": [
    "merged_df.columns"
   ]
  },
  {
   "cell_type": "code",
   "execution_count": 13,
   "id": "60fd1269",
   "metadata": {},
   "outputs": [
    {
     "data": {
      "text/html": [
       "<div>\n",
       "<style scoped>\n",
       "    .dataframe tbody tr th:only-of-type {\n",
       "        vertical-align: middle;\n",
       "    }\n",
       "\n",
       "    .dataframe tbody tr th {\n",
       "        vertical-align: top;\n",
       "    }\n",
       "\n",
       "    .dataframe thead th {\n",
       "        text-align: right;\n",
       "    }\n",
       "</style>\n",
       "<table border=\"1\" class=\"dataframe\">\n",
       "  <thead>\n",
       "    <tr style=\"text-align: right;\">\n",
       "      <th></th>\n",
       "      <th>Violence Status</th>\n",
       "      <th>Community Area</th>\n",
       "      <th>Average_Wind_Speed</th>\n",
       "      <th>Average_Temperature</th>\n",
       "      <th>Fog_Ice_Freezing_Fog</th>\n",
       "      <th>Smoke_or_Haze</th>\n",
       "    </tr>\n",
       "  </thead>\n",
       "  <tbody>\n",
       "    <tr>\n",
       "      <th>0</th>\n",
       "      <td>NON-VIOLENT</td>\n",
       "      <td>67.0</td>\n",
       "      <td>6.93</td>\n",
       "      <td>32.0</td>\n",
       "      <td>1.0</td>\n",
       "      <td>0.0</td>\n",
       "    </tr>\n",
       "    <tr>\n",
       "      <th>1</th>\n",
       "      <td>VIOLENT</td>\n",
       "      <td>43.0</td>\n",
       "      <td>6.93</td>\n",
       "      <td>32.0</td>\n",
       "      <td>1.0</td>\n",
       "      <td>0.0</td>\n",
       "    </tr>\n",
       "    <tr>\n",
       "      <th>2</th>\n",
       "      <td>NON-VIOLENT</td>\n",
       "      <td>43.0</td>\n",
       "      <td>6.93</td>\n",
       "      <td>32.0</td>\n",
       "      <td>1.0</td>\n",
       "      <td>0.0</td>\n",
       "    </tr>\n",
       "    <tr>\n",
       "      <th>3</th>\n",
       "      <td>NON-VIOLENT</td>\n",
       "      <td>41.0</td>\n",
       "      <td>6.93</td>\n",
       "      <td>32.0</td>\n",
       "      <td>1.0</td>\n",
       "      <td>0.0</td>\n",
       "    </tr>\n",
       "    <tr>\n",
       "      <th>4</th>\n",
       "      <td>NON-VIOLENT</td>\n",
       "      <td>75.0</td>\n",
       "      <td>6.93</td>\n",
       "      <td>32.0</td>\n",
       "      <td>1.0</td>\n",
       "      <td>0.0</td>\n",
       "    </tr>\n",
       "  </tbody>\n",
       "</table>\n",
       "</div>"
      ],
      "text/plain": [
       "  Violence Status  Community Area  Average_Wind_Speed  Average_Temperature  \\\n",
       "0     NON-VIOLENT            67.0                6.93                 32.0   \n",
       "1         VIOLENT            43.0                6.93                 32.0   \n",
       "2     NON-VIOLENT            43.0                6.93                 32.0   \n",
       "3     NON-VIOLENT            41.0                6.93                 32.0   \n",
       "4     NON-VIOLENT            75.0                6.93                 32.0   \n",
       "\n",
       "   Fog_Ice_Freezing_Fog  Smoke_or_Haze  \n",
       "0                   1.0            0.0  \n",
       "1                   1.0            0.0  \n",
       "2                   1.0            0.0  \n",
       "3                   1.0            0.0  \n",
       "4                   1.0            0.0  "
      ]
     },
     "execution_count": 13,
     "metadata": {},
     "output_type": "execute_result"
    }
   ],
   "source": [
    "df = merged_df.replace(np.nan,0).drop(columns=['Date'])\n",
    "df.head()"
   ]
  },
  {
   "cell_type": "code",
   "execution_count": 14,
   "id": "f5e5a8fc",
   "metadata": {},
   "outputs": [
    {
     "data": {
      "text/plain": [
       "Index(['Violence Status', 'Community Area', 'Average_Wind_Speed',\n",
       "       'Average_Temperature', 'Fog_Ice_Freezing_Fog', 'Smoke_or_Haze'],\n",
       "      dtype='object')"
      ]
     },
     "execution_count": 14,
     "metadata": {},
     "output_type": "execute_result"
    }
   ],
   "source": [
    "df.columns"
   ]
  },
  {
   "cell_type": "code",
   "execution_count": 15,
   "id": "5417e63f",
   "metadata": {},
   "outputs": [
    {
     "data": {
      "text/plain": [
       "Violence Status          2\n",
       "Community Area          77\n",
       "Average_Wind_Speed      68\n",
       "Average_Temperature     76\n",
       "Fog_Ice_Freezing_Fog     2\n",
       "Smoke_or_Haze            2\n",
       "dtype: int64"
      ]
     },
     "execution_count": 15,
     "metadata": {},
     "output_type": "execute_result"
    }
   ],
   "source": [
    "df.nunique()"
   ]
  },
  {
   "cell_type": "code",
   "execution_count": 16,
   "id": "75da52bd",
   "metadata": {},
   "outputs": [],
   "source": [
    "y = df['Violence Status']\n",
    "X = df.drop(columns='Violence Status')\n",
    "X = pd.get_dummies(X)"
   ]
  },
  {
   "cell_type": "code",
   "execution_count": 17,
   "id": "292a6710",
   "metadata": {},
   "outputs": [
    {
     "name": "stdout",
     "output_type": "stream",
     "text": [
      "(52382, 5)\n",
      "(52382,)\n"
     ]
    },
    {
     "data": {
      "text/html": [
       "<div>\n",
       "<style scoped>\n",
       "    .dataframe tbody tr th:only-of-type {\n",
       "        vertical-align: middle;\n",
       "    }\n",
       "\n",
       "    .dataframe tbody tr th {\n",
       "        vertical-align: top;\n",
       "    }\n",
       "\n",
       "    .dataframe thead th {\n",
       "        text-align: right;\n",
       "    }\n",
       "</style>\n",
       "<table border=\"1\" class=\"dataframe\">\n",
       "  <thead>\n",
       "    <tr style=\"text-align: right;\">\n",
       "      <th></th>\n",
       "      <th>Community Area</th>\n",
       "      <th>Average_Wind_Speed</th>\n",
       "      <th>Average_Temperature</th>\n",
       "      <th>Fog_Ice_Freezing_Fog</th>\n",
       "      <th>Smoke_or_Haze</th>\n",
       "    </tr>\n",
       "  </thead>\n",
       "  <tbody>\n",
       "    <tr>\n",
       "      <th>0</th>\n",
       "      <td>67.0</td>\n",
       "      <td>6.93</td>\n",
       "      <td>32.0</td>\n",
       "      <td>1.0</td>\n",
       "      <td>0.0</td>\n",
       "    </tr>\n",
       "    <tr>\n",
       "      <th>1</th>\n",
       "      <td>43.0</td>\n",
       "      <td>6.93</td>\n",
       "      <td>32.0</td>\n",
       "      <td>1.0</td>\n",
       "      <td>0.0</td>\n",
       "    </tr>\n",
       "    <tr>\n",
       "      <th>2</th>\n",
       "      <td>43.0</td>\n",
       "      <td>6.93</td>\n",
       "      <td>32.0</td>\n",
       "      <td>1.0</td>\n",
       "      <td>0.0</td>\n",
       "    </tr>\n",
       "    <tr>\n",
       "      <th>3</th>\n",
       "      <td>41.0</td>\n",
       "      <td>6.93</td>\n",
       "      <td>32.0</td>\n",
       "      <td>1.0</td>\n",
       "      <td>0.0</td>\n",
       "    </tr>\n",
       "    <tr>\n",
       "      <th>4</th>\n",
       "      <td>75.0</td>\n",
       "      <td>6.93</td>\n",
       "      <td>32.0</td>\n",
       "      <td>1.0</td>\n",
       "      <td>0.0</td>\n",
       "    </tr>\n",
       "  </tbody>\n",
       "</table>\n",
       "</div>"
      ],
      "text/plain": [
       "   Community Area  Average_Wind_Speed  Average_Temperature  \\\n",
       "0            67.0                6.93                 32.0   \n",
       "1            43.0                6.93                 32.0   \n",
       "2            43.0                6.93                 32.0   \n",
       "3            41.0                6.93                 32.0   \n",
       "4            75.0                6.93                 32.0   \n",
       "\n",
       "   Fog_Ice_Freezing_Fog  Smoke_or_Haze  \n",
       "0                   1.0            0.0  \n",
       "1                   1.0            0.0  \n",
       "2                   1.0            0.0  \n",
       "3                   1.0            0.0  \n",
       "4                   1.0            0.0  "
      ]
     },
     "execution_count": 17,
     "metadata": {},
     "output_type": "execute_result"
    }
   ],
   "source": [
    "print(X.shape)\n",
    "print(y.shape)\n",
    "X.head()\n"
   ]
  },
  {
   "cell_type": "code",
   "execution_count": 18,
   "id": "dd05f4da",
   "metadata": {},
   "outputs": [
    {
     "data": {
      "text/html": [
       "<div>\n",
       "<style scoped>\n",
       "    .dataframe tbody tr th:only-of-type {\n",
       "        vertical-align: middle;\n",
       "    }\n",
       "\n",
       "    .dataframe tbody tr th {\n",
       "        vertical-align: top;\n",
       "    }\n",
       "\n",
       "    .dataframe thead th {\n",
       "        text-align: right;\n",
       "    }\n",
       "</style>\n",
       "<table border=\"1\" class=\"dataframe\">\n",
       "  <thead>\n",
       "    <tr style=\"text-align: right;\">\n",
       "      <th></th>\n",
       "      <th>Community Area</th>\n",
       "      <th>Average_Wind_Speed</th>\n",
       "      <th>Average_Temperature</th>\n",
       "      <th>Fog_Ice_Freezing_Fog</th>\n",
       "      <th>Smoke_or_Haze</th>\n",
       "    </tr>\n",
       "  </thead>\n",
       "  <tbody>\n",
       "    <tr>\n",
       "      <th>count</th>\n",
       "      <td>52382.000000</td>\n",
       "      <td>52382.000000</td>\n",
       "      <td>52382.000000</td>\n",
       "      <td>52382.000000</td>\n",
       "      <td>52382.000000</td>\n",
       "    </tr>\n",
       "    <tr>\n",
       "      <th>mean</th>\n",
       "      <td>37.714902</td>\n",
       "      <td>9.086781</td>\n",
       "      <td>55.430300</td>\n",
       "      <td>0.346760</td>\n",
       "      <td>0.150949</td>\n",
       "    </tr>\n",
       "    <tr>\n",
       "      <th>std</th>\n",
       "      <td>21.005551</td>\n",
       "      <td>3.508695</td>\n",
       "      <td>19.110416</td>\n",
       "      <td>0.475943</td>\n",
       "      <td>0.358002</td>\n",
       "    </tr>\n",
       "    <tr>\n",
       "      <th>min</th>\n",
       "      <td>1.000000</td>\n",
       "      <td>0.000000</td>\n",
       "      <td>0.000000</td>\n",
       "      <td>0.000000</td>\n",
       "      <td>0.000000</td>\n",
       "    </tr>\n",
       "    <tr>\n",
       "      <th>25%</th>\n",
       "      <td>24.000000</td>\n",
       "      <td>6.710000</td>\n",
       "      <td>40.000000</td>\n",
       "      <td>0.000000</td>\n",
       "      <td>0.000000</td>\n",
       "    </tr>\n",
       "    <tr>\n",
       "      <th>50%</th>\n",
       "      <td>32.000000</td>\n",
       "      <td>8.720000</td>\n",
       "      <td>57.000000</td>\n",
       "      <td>0.000000</td>\n",
       "      <td>0.000000</td>\n",
       "    </tr>\n",
       "    <tr>\n",
       "      <th>75%</th>\n",
       "      <td>56.000000</td>\n",
       "      <td>10.960000</td>\n",
       "      <td>72.000000</td>\n",
       "      <td>1.000000</td>\n",
       "      <td>0.000000</td>\n",
       "    </tr>\n",
       "    <tr>\n",
       "      <th>max</th>\n",
       "      <td>77.000000</td>\n",
       "      <td>27.960000</td>\n",
       "      <td>84.000000</td>\n",
       "      <td>1.000000</td>\n",
       "      <td>1.000000</td>\n",
       "    </tr>\n",
       "  </tbody>\n",
       "</table>\n",
       "</div>"
      ],
      "text/plain": [
       "       Community Area  Average_Wind_Speed  Average_Temperature  \\\n",
       "count    52382.000000        52382.000000         52382.000000   \n",
       "mean        37.714902            9.086781            55.430300   \n",
       "std         21.005551            3.508695            19.110416   \n",
       "min          1.000000            0.000000             0.000000   \n",
       "25%         24.000000            6.710000            40.000000   \n",
       "50%         32.000000            8.720000            57.000000   \n",
       "75%         56.000000           10.960000            72.000000   \n",
       "max         77.000000           27.960000            84.000000   \n",
       "\n",
       "       Fog_Ice_Freezing_Fog  Smoke_or_Haze  \n",
       "count          52382.000000   52382.000000  \n",
       "mean               0.346760       0.150949  \n",
       "std                0.475943       0.358002  \n",
       "min                0.000000       0.000000  \n",
       "25%                0.000000       0.000000  \n",
       "50%                0.000000       0.000000  \n",
       "75%                1.000000       0.000000  \n",
       "max                1.000000       1.000000  "
      ]
     },
     "execution_count": 18,
     "metadata": {},
     "output_type": "execute_result"
    }
   ],
   "source": [
    "X.describe()"
   ]
  },
  {
   "cell_type": "code",
   "execution_count": 19,
   "id": "b92eb80b",
   "metadata": {},
   "outputs": [
    {
     "data": {
      "text/plain": [
       "NON-VIOLENT    38149\n",
       "VIOLENT        14233\n",
       "Name: Violence Status, dtype: int64"
      ]
     },
     "execution_count": 19,
     "metadata": {},
     "output_type": "execute_result"
    }
   ],
   "source": [
    "y.value_counts()"
   ]
  },
  {
   "cell_type": "code",
   "execution_count": 20,
   "id": "680f6a64",
   "metadata": {},
   "outputs": [],
   "source": [
    "X_train,X_test,y_train,y_test = train_test_split(X, y, random_state=1)\n",
    "scaler = StandardScaler().fit(X_train)\n",
    "X_train_scaled = scaler.transform(X_train)\n",
    "X_test_scaled = scaler.transform(X_test)"
   ]
  },
  {
   "cell_type": "markdown",
   "id": "3ca2bb42",
   "metadata": {},
   "source": [
    "#### Balanced Random Forest Classifier"
   ]
  },
  {
   "cell_type": "code",
   "execution_count": 21,
   "id": "f2450b80",
   "metadata": {},
   "outputs": [
    {
     "data": {
      "text/plain": [
       "BalancedRandomForestClassifier(random_state=1)"
      ]
     },
     "execution_count": 21,
     "metadata": {},
     "output_type": "execute_result"
    }
   ],
   "source": [
    "# Resample the training data with the BalancedRandomForestClassifier\n",
    "brf = BalancedRandomForestClassifier(n_estimators=100, random_state=1).fit(X_train_scaled, y_train)\n",
    "y_pred=brf.predict(X_test_scaled)\n",
    "brf"
   ]
  },
  {
   "cell_type": "code",
   "execution_count": 22,
   "id": "42da140b",
   "metadata": {},
   "outputs": [
    {
     "name": "stdout",
     "output_type": "stream",
     "text": [
      "Data for Balanced Random Forest Classifier\n",
      "---------------------------------------------------------------------\n",
      "Balanced Accuracy Score: 0.5156765637724742\n",
      "---------------------------------------------------------------------\n",
      "Confusion Matrix:\n"
     ]
    },
    {
     "data": {
      "text/html": [
       "<div>\n",
       "<style scoped>\n",
       "    .dataframe tbody tr th:only-of-type {\n",
       "        vertical-align: middle;\n",
       "    }\n",
       "\n",
       "    .dataframe tbody tr th {\n",
       "        vertical-align: top;\n",
       "    }\n",
       "\n",
       "    .dataframe thead th {\n",
       "        text-align: right;\n",
       "    }\n",
       "</style>\n",
       "<table border=\"1\" class=\"dataframe\">\n",
       "  <thead>\n",
       "    <tr style=\"text-align: right;\">\n",
       "      <th></th>\n",
       "      <th>Predicted Non-violent</th>\n",
       "      <th>Predicted Violent</th>\n",
       "    </tr>\n",
       "  </thead>\n",
       "  <tbody>\n",
       "    <tr>\n",
       "      <th>Actual Non-voilent</th>\n",
       "      <td>4886</td>\n",
       "      <td>4679</td>\n",
       "    </tr>\n",
       "    <tr>\n",
       "      <th>Actual Violent</th>\n",
       "      <td>1693</td>\n",
       "      <td>1838</td>\n",
       "    </tr>\n",
       "  </tbody>\n",
       "</table>\n",
       "</div>"
      ],
      "text/plain": [
       "                    Predicted Non-violent  Predicted Violent\n",
       "Actual Non-voilent                   4886               4679\n",
       "Actual Violent                       1693               1838"
      ]
     },
     "metadata": {},
     "output_type": "display_data"
    },
    {
     "name": "stdout",
     "output_type": "stream",
     "text": [
      "---------------------------------------------------------------------\n",
      "Imbalanced Classification Report:\n",
      "                   pre       rec       spe        f1       geo       iba       sup\n",
      "\n",
      "NON-VIOLENT       0.74      0.51      0.52      0.61      0.52      0.27      9565\n",
      "    VIOLENT       0.28      0.52      0.51      0.37      0.52      0.27      3531\n",
      "\n",
      "avg / total       0.62      0.51      0.52      0.54      0.52      0.27     13096\n",
      "\n"
     ]
    }
   ],
   "source": [
    "print('Data for Balanced Random Forest Classifier')\n",
    "print('---------------------------------------------------------------------')\n",
    "print(f'Balanced Accuracy Score: {balanced_accuracy_score(y_test, y_pred)}')\n",
    "print('---------------------------------------------------------------------')\n",
    "print('Confusion Matrix:')\n",
    "cm = confusion_matrix(y_test, y_pred)\n",
    "cm_df = pd.DataFrame(cm, index=[\"Actual Non-voilent\", \"Actual Violent\"], \n",
    "                     columns=[\"Predicted Non-violent\", \"Predicted Violent\"])\n",
    "display(cm_df)\n",
    "print('---------------------------------------------------------------------')\n",
    "print('Imbalanced Classification Report:')\n",
    "print(classification_report_imbalanced(y_test, y_pred))"
   ]
  },
  {
   "cell_type": "code",
   "execution_count": 23,
   "id": "c83d198a",
   "metadata": {},
   "outputs": [
    {
     "name": "stdout",
     "output_type": "stream",
     "text": [
      "Community Area: (0.5677144037287015)\n",
      "Average_Wind_Speed: (0.21224657603323094)\n",
      "Average_Temperature: (0.19642592253054492)\n",
      "Fog_Ice_Freezing_Fog: (0.014785142222777834)\n",
      "Smoke_or_Haze: (0.00882795548474484)\n"
     ]
    }
   ],
   "source": [
    "for feat, importance in sorted(zip(X.columns, brf.feature_importances_), key = lambda x: x[1], reverse=True):\n",
    "    print(f'{feat}: ({importance})')"
   ]
  },
  {
   "cell_type": "code",
   "execution_count": 24,
   "id": "6d94c909",
   "metadata": {},
   "outputs": [
    {
     "data": {
      "text/plain": [
       "array(['NON-VIOLENT'], dtype=object)"
      ]
     },
     "execution_count": 24,
     "metadata": {},
     "output_type": "execute_result"
    }
   ],
   "source": [
    "brf.predict([[25, 10, 33, 0, 0]])"
   ]
  },
  {
   "cell_type": "markdown",
   "id": "53de55cb",
   "metadata": {},
   "source": [
    "#### Easy Ensemble Adaboost Classifier"
   ]
  },
  {
   "cell_type": "code",
   "execution_count": 25,
   "id": "393643bf",
   "metadata": {},
   "outputs": [
    {
     "data": {
      "text/plain": [
       "EasyEnsembleClassifier(n_estimators=100, random_state=1)"
      ]
     },
     "execution_count": 25,
     "metadata": {},
     "output_type": "execute_result"
    }
   ],
   "source": [
    "# Train the EasyEnsembleClassifier\n",
    "eec = EasyEnsembleClassifier(n_estimators=100, random_state=1).fit(X_train_scaled, y_train)\n",
    "y_pred=eec.predict(X_test_scaled)\n",
    "eec"
   ]
  },
  {
   "cell_type": "code",
   "execution_count": 26,
   "id": "3cb9302f",
   "metadata": {},
   "outputs": [
    {
     "name": "stdout",
     "output_type": "stream",
     "text": [
      "Data for Easy Ensemble AdaBoost Classifier\n",
      "---------------------------------------------------------------------\n",
      "Balanced Accuracy Score: 0.5385203091785209\n",
      "---------------------------------------------------------------------\n",
      "Confusion Matrix:\n"
     ]
    },
    {
     "data": {
      "text/html": [
       "<div>\n",
       "<style scoped>\n",
       "    .dataframe tbody tr th:only-of-type {\n",
       "        vertical-align: middle;\n",
       "    }\n",
       "\n",
       "    .dataframe tbody tr th {\n",
       "        vertical-align: top;\n",
       "    }\n",
       "\n",
       "    .dataframe thead th {\n",
       "        text-align: right;\n",
       "    }\n",
       "</style>\n",
       "<table border=\"1\" class=\"dataframe\">\n",
       "  <thead>\n",
       "    <tr style=\"text-align: right;\">\n",
       "      <th></th>\n",
       "      <th>Predicted Non-violent</th>\n",
       "      <th>Predicted Violent</th>\n",
       "    </tr>\n",
       "  </thead>\n",
       "  <tbody>\n",
       "    <tr>\n",
       "      <th>Actual Non-voilent</th>\n",
       "      <td>4681</td>\n",
       "      <td>4884</td>\n",
       "    </tr>\n",
       "    <tr>\n",
       "      <th>Actual Violent</th>\n",
       "      <td>1456</td>\n",
       "      <td>2075</td>\n",
       "    </tr>\n",
       "  </tbody>\n",
       "</table>\n",
       "</div>"
      ],
      "text/plain": [
       "                    Predicted Non-violent  Predicted Violent\n",
       "Actual Non-voilent                   4681               4884\n",
       "Actual Violent                       1456               2075"
      ]
     },
     "metadata": {},
     "output_type": "display_data"
    },
    {
     "name": "stdout",
     "output_type": "stream",
     "text": [
      "---------------------------------------------------------------------\n",
      "Imbalanced Classification Report:\n",
      "                   pre       rec       spe        f1       geo       iba       sup\n",
      "\n",
      "NON-VIOLENT       0.76      0.49      0.59      0.60      0.54      0.28      9565\n",
      "    VIOLENT       0.30      0.59      0.49      0.40      0.54      0.29      3531\n",
      "\n",
      "avg / total       0.64      0.52      0.56      0.54      0.54      0.29     13096\n",
      "\n"
     ]
    }
   ],
   "source": [
    "print('Data for Easy Ensemble AdaBoost Classifier')\n",
    "print('---------------------------------------------------------------------')\n",
    "print(f'Balanced Accuracy Score: {balanced_accuracy_score(y_test, y_pred)}')\n",
    "print('---------------------------------------------------------------------')\n",
    "print('Confusion Matrix:')\n",
    "cm = confusion_matrix(y_test, y_pred)\n",
    "cm_df = pd.DataFrame(cm, index=[\"Actual Non-voilent\", \"Actual Violent\"], \n",
    "                     columns=[\"Predicted Non-violent\", \"Predicted Violent\"])\n",
    "display(cm_df)\n",
    "print('---------------------------------------------------------------------')\n",
    "print('Imbalanced Classification Report:')\n",
    "print(classification_report_imbalanced(y_test, y_pred))"
   ]
  },
  {
   "cell_type": "code",
   "execution_count": 27,
   "id": "37ff1c27",
   "metadata": {},
   "outputs": [
    {
     "data": {
      "text/plain": [
       "array(['NON-VIOLENT'], dtype=object)"
      ]
     },
     "execution_count": 27,
     "metadata": {},
     "output_type": "execute_result"
    }
   ],
   "source": [
    "eec.predict([[25, 10, 33, 0, 0]])"
   ]
  },
  {
   "cell_type": "markdown",
   "id": "d8810f69",
   "metadata": {},
   "source": [
    "#### Naive Random Oversampling"
   ]
  },
  {
   "cell_type": "code",
   "execution_count": 28,
   "id": "502edf2f",
   "metadata": {},
   "outputs": [
    {
     "data": {
      "text/plain": [
       "Counter({'VIOLENT': 10702, 'NON-VIOLENT': 28584})"
      ]
     },
     "execution_count": 28,
     "metadata": {},
     "output_type": "execute_result"
    }
   ],
   "source": [
    "from collections import Counter\n",
    "Counter(y_train)"
   ]
  },
  {
   "cell_type": "code",
   "execution_count": 29,
   "id": "7baa11a7",
   "metadata": {},
   "outputs": [
    {
     "data": {
      "text/plain": [
       "Counter({'VIOLENT': 28584, 'NON-VIOLENT': 28584})"
      ]
     },
     "execution_count": 29,
     "metadata": {},
     "output_type": "execute_result"
    }
   ],
   "source": [
    "# Resample the training data with the RandomOversampler\n",
    "from imblearn.over_sampling import RandomOverSampler\n",
    "ros = RandomOverSampler(random_state=1)\n",
    "X_resampled, y_resampled = ros.fit_resample(X_train, y_train)\n",
    "\n",
    "Counter(y_resampled)"
   ]
  },
  {
   "cell_type": "code",
   "execution_count": 30,
   "id": "6d32cbb9",
   "metadata": {},
   "outputs": [],
   "source": [
    "# Train the Logistic Regression model using the resampled data\n",
    "from sklearn.linear_model import LogisticRegression\n",
    "\n",
    "ros_model = LogisticRegression(solver='lbfgs', random_state=1)\n",
    "ros_model.fit(X_resampled, y_resampled)\n",
    "y_pred = ros_model.predict(X_test)"
   ]
  },
  {
   "cell_type": "code",
   "execution_count": 31,
   "id": "330d4223",
   "metadata": {},
   "outputs": [
    {
     "name": "stdout",
     "output_type": "stream",
     "text": [
      "Data for Naive Random Oversampling\n",
      "---------------------------------------------------------------------\n",
      "Balanced Accuracy Score: 0.5366165823044728\n",
      "---------------------------------------------------------------------\n",
      "Confusion Matrix:\n"
     ]
    },
    {
     "data": {
      "text/html": [
       "<div>\n",
       "<style scoped>\n",
       "    .dataframe tbody tr th:only-of-type {\n",
       "        vertical-align: middle;\n",
       "    }\n",
       "\n",
       "    .dataframe tbody tr th {\n",
       "        vertical-align: top;\n",
       "    }\n",
       "\n",
       "    .dataframe thead th {\n",
       "        text-align: right;\n",
       "    }\n",
       "</style>\n",
       "<table border=\"1\" class=\"dataframe\">\n",
       "  <thead>\n",
       "    <tr style=\"text-align: right;\">\n",
       "      <th></th>\n",
       "      <th>Predicted Non-violent</th>\n",
       "      <th>Predicted Violent</th>\n",
       "    </tr>\n",
       "  </thead>\n",
       "  <tbody>\n",
       "    <tr>\n",
       "      <th>Actual Non-voilent</th>\n",
       "      <td>5078</td>\n",
       "      <td>4487</td>\n",
       "    </tr>\n",
       "    <tr>\n",
       "      <th>Actual Violent</th>\n",
       "      <td>1616</td>\n",
       "      <td>1915</td>\n",
       "    </tr>\n",
       "  </tbody>\n",
       "</table>\n",
       "</div>"
      ],
      "text/plain": [
       "                    Predicted Non-violent  Predicted Violent\n",
       "Actual Non-voilent                   5078               4487\n",
       "Actual Violent                       1616               1915"
      ]
     },
     "metadata": {},
     "output_type": "display_data"
    },
    {
     "name": "stdout",
     "output_type": "stream",
     "text": [
      "---------------------------------------------------------------------\n",
      "Imbalanced Classification Report:\n",
      "                   pre       rec       spe        f1       geo       iba       sup\n",
      "\n",
      "NON-VIOLENT       0.76      0.53      0.54      0.62      0.54      0.29      9565\n",
      "    VIOLENT       0.30      0.54      0.53      0.39      0.54      0.29      3531\n",
      "\n",
      "avg / total       0.63      0.53      0.54      0.56      0.54      0.29     13096\n",
      "\n"
     ]
    }
   ],
   "source": [
    "print('Data for Naive Random Oversampling')\n",
    "print('---------------------------------------------------------------------')\n",
    "print(f'Balanced Accuracy Score: {balanced_accuracy_score(y_test, y_pred)}')\n",
    "print('---------------------------------------------------------------------')\n",
    "print('Confusion Matrix:')\n",
    "cm = confusion_matrix(y_test, y_pred)\n",
    "cm_df = pd.DataFrame(cm, index=[\"Actual Non-voilent\", \"Actual Violent\"], \n",
    "                     columns=[\"Predicted Non-violent\", \"Predicted Violent\"])\n",
    "display(cm_df)\n",
    "print('---------------------------------------------------------------------')\n",
    "print('Imbalanced Classification Report:')\n",
    "print(classification_report_imbalanced(y_test, y_pred))"
   ]
  },
  {
   "cell_type": "code",
   "execution_count": 32,
   "id": "5efd65c2",
   "metadata": {},
   "outputs": [
    {
     "name": "stderr",
     "output_type": "stream",
     "text": [
      "C:\\Users\\kyobu\\anaconda3\\envs\\mlenv\\lib\\site-packages\\sklearn\\base.py:442: UserWarning: X does not have valid feature names, but LogisticRegression was fitted with feature names\n",
      "  \"X does not have valid feature names, but\"\n"
     ]
    },
    {
     "data": {
      "text/plain": [
       "array(['NON-VIOLENT'], dtype=object)"
      ]
     },
     "execution_count": 32,
     "metadata": {},
     "output_type": "execute_result"
    }
   ],
   "source": [
    "ros_model.predict([[25, 10, 33, 0, 0]])"
   ]
  },
  {
   "cell_type": "markdown",
   "id": "86d06f4c",
   "metadata": {},
   "source": [
    "#### SMOTE Oversampling"
   ]
  },
  {
   "cell_type": "code",
   "execution_count": 33,
   "id": "db04ffce",
   "metadata": {},
   "outputs": [
    {
     "data": {
      "text/plain": [
       "Counter({'VIOLENT': 28584, 'NON-VIOLENT': 28584})"
      ]
     },
     "execution_count": 33,
     "metadata": {},
     "output_type": "execute_result"
    }
   ],
   "source": [
    "# Resample the training data with SMOTE\n",
    "from imblearn.over_sampling import SMOTE\n",
    "X_resampled, y_resampled = SMOTE(random_state=1, sampling_strategy='auto').fit_resample(\n",
    "    X_train, y_train\n",
    ")\n",
    "Counter(y_resampled)"
   ]
  },
  {
   "cell_type": "code",
   "execution_count": 34,
   "id": "a62b0ed3",
   "metadata": {},
   "outputs": [],
   "source": [
    "# Train the Logistic Regression model using the resampled data\n",
    "so_model = LogisticRegression(solver='lbfgs', random_state=1)\n",
    "so_model.fit(X_resampled, y_resampled)\n",
    "y_pred = so_model.predict(X_test)"
   ]
  },
  {
   "cell_type": "code",
   "execution_count": 35,
   "id": "62b3fce0",
   "metadata": {},
   "outputs": [
    {
     "name": "stdout",
     "output_type": "stream",
     "text": [
      "Data for SMOTE Oversampling\n",
      "---------------------------------------------------------------------\n",
      "Balanced Accuracy Score: 0.5346989838193652\n",
      "---------------------------------------------------------------------\n",
      "Confusion Matrix:\n"
     ]
    },
    {
     "data": {
      "text/html": [
       "<div>\n",
       "<style scoped>\n",
       "    .dataframe tbody tr th:only-of-type {\n",
       "        vertical-align: middle;\n",
       "    }\n",
       "\n",
       "    .dataframe tbody tr th {\n",
       "        vertical-align: top;\n",
       "    }\n",
       "\n",
       "    .dataframe thead th {\n",
       "        text-align: right;\n",
       "    }\n",
       "</style>\n",
       "<table border=\"1\" class=\"dataframe\">\n",
       "  <thead>\n",
       "    <tr style=\"text-align: right;\">\n",
       "      <th></th>\n",
       "      <th>Predicted Non-violent</th>\n",
       "      <th>Predicted Violent</th>\n",
       "    </tr>\n",
       "  </thead>\n",
       "  <tbody>\n",
       "    <tr>\n",
       "      <th>Actual Non-voilent</th>\n",
       "      <td>5128</td>\n",
       "      <td>4437</td>\n",
       "    </tr>\n",
       "    <tr>\n",
       "      <th>Actual Violent</th>\n",
       "      <td>1648</td>\n",
       "      <td>1883</td>\n",
       "    </tr>\n",
       "  </tbody>\n",
       "</table>\n",
       "</div>"
      ],
      "text/plain": [
       "                    Predicted Non-violent  Predicted Violent\n",
       "Actual Non-voilent                   5128               4437\n",
       "Actual Violent                       1648               1883"
      ]
     },
     "metadata": {},
     "output_type": "display_data"
    },
    {
     "name": "stdout",
     "output_type": "stream",
     "text": [
      "---------------------------------------------------------------------\n",
      "Imbalanced Classification Report:\n",
      "                   pre       rec       spe        f1       geo       iba       sup\n",
      "\n",
      "NON-VIOLENT       0.76      0.54      0.53      0.63      0.53      0.29      9565\n",
      "    VIOLENT       0.30      0.53      0.54      0.38      0.53      0.29      3531\n",
      "\n",
      "avg / total       0.63      0.54      0.53      0.56      0.53      0.29     13096\n",
      "\n"
     ]
    }
   ],
   "source": [
    "print('Data for SMOTE Oversampling')\n",
    "print('---------------------------------------------------------------------')\n",
    "print(f'Balanced Accuracy Score: {balanced_accuracy_score(y_test, y_pred)}')\n",
    "print('---------------------------------------------------------------------')\n",
    "print('Confusion Matrix:')\n",
    "cm = confusion_matrix(y_test, y_pred)\n",
    "cm_df = pd.DataFrame(cm, index=[\"Actual Non-voilent\", \"Actual Violent\"], \n",
    "                     columns=[\"Predicted Non-violent\", \"Predicted Violent\"])\n",
    "display(cm_df)\n",
    "print('---------------------------------------------------------------------')\n",
    "print('Imbalanced Classification Report:')\n",
    "print(classification_report_imbalanced(y_test, y_pred))"
   ]
  },
  {
   "cell_type": "code",
   "execution_count": 36,
   "id": "5a6ea02c",
   "metadata": {},
   "outputs": [
    {
     "name": "stderr",
     "output_type": "stream",
     "text": [
      "C:\\Users\\kyobu\\anaconda3\\envs\\mlenv\\lib\\site-packages\\sklearn\\base.py:442: UserWarning: X does not have valid feature names, but LogisticRegression was fitted with feature names\n",
      "  \"X does not have valid feature names, but\"\n"
     ]
    },
    {
     "data": {
      "text/plain": [
       "array(['NON-VIOLENT'], dtype=object)"
      ]
     },
     "execution_count": 36,
     "metadata": {},
     "output_type": "execute_result"
    }
   ],
   "source": [
    "so_model.predict([[25, 10, 33, 0, 0]])"
   ]
  },
  {
   "cell_type": "markdown",
   "id": "94ff60b9",
   "metadata": {},
   "source": [
    "#### Undersampling"
   ]
  },
  {
   "cell_type": "code",
   "execution_count": 37,
   "id": "ca65c123",
   "metadata": {},
   "outputs": [
    {
     "data": {
      "text/plain": [
       "Counter({'NON-VIOLENT': 10702, 'VIOLENT': 10702})"
      ]
     },
     "execution_count": 37,
     "metadata": {},
     "output_type": "execute_result"
    }
   ],
   "source": [
    "# Resample the data using the ClusterCentroids resampler\n",
    "from imblearn.under_sampling import ClusterCentroids\n",
    "cc = ClusterCentroids(random_state=1)\n",
    "X_resampled, y_resampled = cc.fit_resample(X_train, y_train)\n",
    "Counter(y_resampled)"
   ]
  },
  {
   "cell_type": "code",
   "execution_count": 38,
   "id": "8bae2961",
   "metadata": {},
   "outputs": [],
   "source": [
    "# Train the Logistic Regression model using the resampled data\n",
    "from sklearn.linear_model import LogisticRegression\n",
    "cc_model = LogisticRegression(solver='lbfgs', random_state=1)\n",
    "cc_model.fit(X_resampled, y_resampled)\n",
    "y_pred = cc_model.predict(X_test)"
   ]
  },
  {
   "cell_type": "code",
   "execution_count": 39,
   "id": "d8997285",
   "metadata": {},
   "outputs": [
    {
     "name": "stdout",
     "output_type": "stream",
     "text": [
      "Data for Undersampling\n",
      "---------------------------------------------------------------------\n",
      "Balanced Accuracy Score: 0.5259024282425409\n",
      "---------------------------------------------------------------------\n",
      "Confusion Matrix:\n"
     ]
    },
    {
     "data": {
      "text/html": [
       "<div>\n",
       "<style scoped>\n",
       "    .dataframe tbody tr th:only-of-type {\n",
       "        vertical-align: middle;\n",
       "    }\n",
       "\n",
       "    .dataframe tbody tr th {\n",
       "        vertical-align: top;\n",
       "    }\n",
       "\n",
       "    .dataframe thead th {\n",
       "        text-align: right;\n",
       "    }\n",
       "</style>\n",
       "<table border=\"1\" class=\"dataframe\">\n",
       "  <thead>\n",
       "    <tr style=\"text-align: right;\">\n",
       "      <th></th>\n",
       "      <th>Predicted Non-violent</th>\n",
       "      <th>Predicted Violent</th>\n",
       "    </tr>\n",
       "  </thead>\n",
       "  <tbody>\n",
       "    <tr>\n",
       "      <th>Actual Non-voilent</th>\n",
       "      <td>4678</td>\n",
       "      <td>4887</td>\n",
       "    </tr>\n",
       "    <tr>\n",
       "      <th>Actual Violent</th>\n",
       "      <td>1544</td>\n",
       "      <td>1987</td>\n",
       "    </tr>\n",
       "  </tbody>\n",
       "</table>\n",
       "</div>"
      ],
      "text/plain": [
       "                    Predicted Non-violent  Predicted Violent\n",
       "Actual Non-voilent                   4678               4887\n",
       "Actual Violent                       1544               1987"
      ]
     },
     "metadata": {},
     "output_type": "display_data"
    },
    {
     "name": "stdout",
     "output_type": "stream",
     "text": [
      "---------------------------------------------------------------------\n",
      "Imbalanced Classification Report:\n",
      "                   pre       rec       spe        f1       geo       iba       sup\n",
      "\n",
      "NON-VIOLENT       0.75      0.49      0.56      0.59      0.52      0.27      9565\n",
      "    VIOLENT       0.29      0.56      0.49      0.38      0.52      0.28      3531\n",
      "\n",
      "avg / total       0.63      0.51      0.54      0.54      0.52      0.27     13096\n",
      "\n"
     ]
    }
   ],
   "source": [
    "print('Data for Undersampling')\n",
    "print('---------------------------------------------------------------------')\n",
    "print(f'Balanced Accuracy Score: {balanced_accuracy_score(y_test, y_pred)}')\n",
    "print('---------------------------------------------------------------------')\n",
    "print('Confusion Matrix:')\n",
    "cm = confusion_matrix(y_test, y_pred)\n",
    "cm_df = pd.DataFrame(cm, index=[\"Actual Non-voilent\", \"Actual Violent\"], \n",
    "                     columns=[\"Predicted Non-violent\", \"Predicted Violent\"])\n",
    "display(cm_df)\n",
    "print('---------------------------------------------------------------------')\n",
    "print('Imbalanced Classification Report:')\n",
    "print(classification_report_imbalanced(y_test, y_pred))"
   ]
  },
  {
   "cell_type": "code",
   "execution_count": 40,
   "id": "a617fe00",
   "metadata": {},
   "outputs": [
    {
     "name": "stderr",
     "output_type": "stream",
     "text": [
      "C:\\Users\\kyobu\\anaconda3\\envs\\mlenv\\lib\\site-packages\\sklearn\\base.py:442: UserWarning: X does not have valid feature names, but LogisticRegression was fitted with feature names\n",
      "  \"X does not have valid feature names, but\"\n"
     ]
    },
    {
     "data": {
      "text/plain": [
       "array(['NON-VIOLENT'], dtype=object)"
      ]
     },
     "execution_count": 40,
     "metadata": {},
     "output_type": "execute_result"
    }
   ],
   "source": [
    "cc_model.predict([[25, 10, 33, 0, 0]])"
   ]
  },
  {
   "cell_type": "markdown",
   "id": "814a5d59",
   "metadata": {},
   "source": [
    "#### Combination Sampling"
   ]
  },
  {
   "cell_type": "code",
   "execution_count": 41,
   "id": "3365bd1b",
   "metadata": {},
   "outputs": [
    {
     "data": {
      "text/plain": [
       "Counter({'NON-VIOLENT': 15616, 'VIOLENT': 10506})"
      ]
     },
     "execution_count": 41,
     "metadata": {},
     "output_type": "execute_result"
    }
   ],
   "source": [
    "# Resample the training data with SMOTEENN\n",
    "from imblearn.combine import SMOTEENN\n",
    "\n",
    "smote_enn = SMOTEENN(random_state=1)\n",
    "X_resampled, y_resampled = smote_enn.fit_resample(X, y)\n",
    "Counter(y_resampled)"
   ]
  },
  {
   "cell_type": "code",
   "execution_count": 42,
   "id": "f0a48bda",
   "metadata": {},
   "outputs": [],
   "source": [
    "# Train the Logistic Regression model using the resampled data\n",
    "from sklearn.linear_model import LogisticRegression\n",
    "cs_model = LogisticRegression(solver='lbfgs', random_state=1)\n",
    "cs_model.fit(X_resampled, y_resampled)\n",
    "y_pred = cs_model.predict(X_test)"
   ]
  },
  {
   "cell_type": "code",
   "execution_count": 43,
   "id": "d515ac3b",
   "metadata": {},
   "outputs": [
    {
     "name": "stdout",
     "output_type": "stream",
     "text": [
      "Data for Combination (Over and Under) Sampling\n",
      "---------------------------------------------------------------------\n",
      "Balanced Accuracy Score: 0.5103734927576719\n",
      "---------------------------------------------------------------------\n",
      "Confusion Matrix:\n"
     ]
    },
    {
     "data": {
      "text/html": [
       "<div>\n",
       "<style scoped>\n",
       "    .dataframe tbody tr th:only-of-type {\n",
       "        vertical-align: middle;\n",
       "    }\n",
       "\n",
       "    .dataframe tbody tr th {\n",
       "        vertical-align: top;\n",
       "    }\n",
       "\n",
       "    .dataframe thead th {\n",
       "        text-align: right;\n",
       "    }\n",
       "</style>\n",
       "<table border=\"1\" class=\"dataframe\">\n",
       "  <thead>\n",
       "    <tr style=\"text-align: right;\">\n",
       "      <th></th>\n",
       "      <th>Predicted High Risk</th>\n",
       "      <th>Predicted Low Risk</th>\n",
       "    </tr>\n",
       "  </thead>\n",
       "  <tbody>\n",
       "    <tr>\n",
       "      <th>Actual High Risk</th>\n",
       "      <td>8344</td>\n",
       "      <td>1221</td>\n",
       "    </tr>\n",
       "    <tr>\n",
       "      <th>Actual Low Risk</th>\n",
       "      <td>3007</td>\n",
       "      <td>524</td>\n",
       "    </tr>\n",
       "  </tbody>\n",
       "</table>\n",
       "</div>"
      ],
      "text/plain": [
       "                  Predicted High Risk  Predicted Low Risk\n",
       "Actual High Risk                 8344                1221\n",
       "Actual Low Risk                  3007                 524"
      ]
     },
     "metadata": {},
     "output_type": "display_data"
    },
    {
     "name": "stdout",
     "output_type": "stream",
     "text": [
      "---------------------------------------------------------------------\n",
      "Imbalanced Classification Report:\n",
      "                   pre       rec       spe        f1       geo       iba       sup\n",
      "\n",
      "NON-VIOLENT       0.74      0.87      0.15      0.80      0.36      0.14      9565\n",
      "    VIOLENT       0.30      0.15      0.87      0.20      0.36      0.12      3531\n",
      "\n",
      "avg / total       0.62      0.68      0.34      0.64      0.36      0.13     13096\n",
      "\n"
     ]
    }
   ],
   "source": [
    "print('Data for Combination (Over and Under) Sampling')\n",
    "print('---------------------------------------------------------------------')\n",
    "print(f'Balanced Accuracy Score: {balanced_accuracy_score(y_test, y_pred)}')\n",
    "print('---------------------------------------------------------------------')\n",
    "print('Confusion Matrix:')\n",
    "cm = confusion_matrix(y_test, y_pred)\n",
    "cm_df = pd.DataFrame(cm, index = ['Actual High Risk', 'Actual Low Risk'], \n",
    "                     columns = ['Predicted High Risk', 'Predicted Low Risk'])\n",
    "display(cm_df)\n",
    "print('---------------------------------------------------------------------')\n",
    "print('Imbalanced Classification Report:')\n",
    "print(classification_report_imbalanced(y_test, y_pred))"
   ]
  },
  {
   "cell_type": "code",
   "execution_count": 46,
   "id": "93ad5acc",
   "metadata": {},
   "outputs": [
    {
     "name": "stderr",
     "output_type": "stream",
     "text": [
      "C:\\Users\\kyobu\\anaconda3\\envs\\mlenv\\lib\\site-packages\\sklearn\\base.py:442: UserWarning: X does not have valid feature names, but LogisticRegression was fitted with feature names\n",
      "  \"X does not have valid feature names, but\"\n"
     ]
    },
    {
     "data": {
      "text/plain": [
       "array(['NON-VIOLENT'], dtype=object)"
      ]
     },
     "execution_count": 46,
     "metadata": {},
     "output_type": "execute_result"
    }
   ],
   "source": [
    "cs_model.predict([[25, 0, 89, 0, 0]])"
   ]
  },
  {
   "cell_type": "code",
   "execution_count": null,
   "id": "6c53c9da",
   "metadata": {},
   "outputs": [],
   "source": []
  }
 ],
 "metadata": {
  "kernelspec": {
   "display_name": "mlenv",
   "language": "python",
   "name": "mlenv"
  },
  "language_info": {
   "codemirror_mode": {
    "name": "ipython",
    "version": 3
   },
   "file_extension": ".py",
   "mimetype": "text/x-python",
   "name": "python",
   "nbconvert_exporter": "python",
   "pygments_lexer": "ipython3",
   "version": "3.7.11"
  }
 },
 "nbformat": 4,
 "nbformat_minor": 5
}

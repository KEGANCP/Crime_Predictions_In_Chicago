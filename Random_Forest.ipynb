{
 "cells": [
  {
   "cell_type": "code",
   "execution_count": 1,
   "id": "e8b8792b",
   "metadata": {},
   "outputs": [],
   "source": [
    "import pandas as pd\n",
    "import numpy as np\n",
    "from path import Path\n",
    "from sklearn import tree\n",
    "from sklearn.linear_model import LogisticRegression, LinearRegression\n",
    "from sklearn.ensemble import RandomForestClassifier\n",
    "from sklearn.preprocessing import StandardScaler, OneHotEncoder\n",
    "from sklearn.model_selection import train_test_split\n",
    "from sklearn.metrics import confusion_matrix, accuracy_score, classification_report\n",
    "from sklearn.svm import SVC"
   ]
  },
  {
   "cell_type": "markdown",
   "id": "1e637d2c",
   "metadata": {},
   "source": [
    "#### SQL Connection"
   ]
  },
  {
   "cell_type": "code",
   "execution_count": 2,
   "id": "6abc7e7b",
   "metadata": {},
   "outputs": [],
   "source": [
    "# # import the modules\n",
    "# import pandas as pd\n",
    "# from sqlalchemy import create_engine\n",
    "\n",
    "# # SQLAlchemy connectable\n",
    "# crm = create_engine('sqlite:///chicago_crime.db').connect()\n",
    "\n",
    "# # table named 'crime_data' will be returned as a dataframe.\n",
    "# df = pd.read_sql_table('crime_data', crm)\n",
    "# print(df)"
   ]
  },
  {
   "cell_type": "markdown",
   "id": "99bfb832",
   "metadata": {},
   "source": [
    "#### CSV connection"
   ]
  },
  {
   "cell_type": "code",
   "execution_count": 3,
   "id": "8dbdae49",
   "metadata": {
    "scrolled": false
   },
   "outputs": [
    {
     "name": "stdout",
     "output_type": "stream",
     "text": [
      "(206997, 18)\n"
     ]
    },
    {
     "data": {
      "text/html": [
       "<div>\n",
       "<style scoped>\n",
       "    .dataframe tbody tr th:only-of-type {\n",
       "        vertical-align: middle;\n",
       "    }\n",
       "\n",
       "    .dataframe tbody tr th {\n",
       "        vertical-align: top;\n",
       "    }\n",
       "\n",
       "    .dataframe thead th {\n",
       "        text-align: right;\n",
       "    }\n",
       "</style>\n",
       "<table border=\"1\" class=\"dataframe\">\n",
       "  <thead>\n",
       "    <tr style=\"text-align: right;\">\n",
       "      <th></th>\n",
       "      <th>ID.1</th>\n",
       "      <th>Block</th>\n",
       "      <th>IUCR</th>\n",
       "      <th>Primary Type</th>\n",
       "      <th>Violence Status</th>\n",
       "      <th>Description</th>\n",
       "      <th>Location Description</th>\n",
       "      <th>Arrest</th>\n",
       "      <th>Domestic</th>\n",
       "      <th>District</th>\n",
       "      <th>Ward</th>\n",
       "      <th>Community Area</th>\n",
       "      <th>FBI Code</th>\n",
       "      <th>Year</th>\n",
       "      <th>Latitude</th>\n",
       "      <th>Longitude</th>\n",
       "      <th>Date</th>\n",
       "      <th>Time</th>\n",
       "    </tr>\n",
       "    <tr>\n",
       "      <th>ID</th>\n",
       "      <th></th>\n",
       "      <th></th>\n",
       "      <th></th>\n",
       "      <th></th>\n",
       "      <th></th>\n",
       "      <th></th>\n",
       "      <th></th>\n",
       "      <th></th>\n",
       "      <th></th>\n",
       "      <th></th>\n",
       "      <th></th>\n",
       "      <th></th>\n",
       "      <th></th>\n",
       "      <th></th>\n",
       "      <th></th>\n",
       "      <th></th>\n",
       "      <th></th>\n",
       "      <th></th>\n",
       "    </tr>\n",
       "  </thead>\n",
       "  <tbody>\n",
       "    <tr>\n",
       "      <th>6909918</th>\n",
       "      <td>12260346</td>\n",
       "      <td>070XX S EGGLESTON AVE</td>\n",
       "      <td>0486</td>\n",
       "      <td>BATTERY</td>\n",
       "      <td>VIOLENT</td>\n",
       "      <td>DOMESTIC BATTERY SIMPLE</td>\n",
       "      <td>APARTMENT</td>\n",
       "      <td>False</td>\n",
       "      <td>True</td>\n",
       "      <td>7.0</td>\n",
       "      <td>6.0</td>\n",
       "      <td>68.0</td>\n",
       "      <td>08B</td>\n",
       "      <td>2021</td>\n",
       "      <td>41.766435</td>\n",
       "      <td>-87.635964</td>\n",
       "      <td>2021-01-03</td>\n",
       "      <td>13:23:00</td>\n",
       "    </tr>\n",
       "    <tr>\n",
       "      <th>6927718</th>\n",
       "      <td>12263464</td>\n",
       "      <td>080XX S YALE AVE</td>\n",
       "      <td>0820</td>\n",
       "      <td>THEFT</td>\n",
       "      <td>NON-VIOLENT</td>\n",
       "      <td>$500 AND UNDER</td>\n",
       "      <td>RESIDENCE</td>\n",
       "      <td>False</td>\n",
       "      <td>False</td>\n",
       "      <td>6.0</td>\n",
       "      <td>17.0</td>\n",
       "      <td>44.0</td>\n",
       "      <td>06</td>\n",
       "      <td>2021</td>\n",
       "      <td>41.748474</td>\n",
       "      <td>-87.630607</td>\n",
       "      <td>2021-01-03</td>\n",
       "      <td>06:59:00</td>\n",
       "    </tr>\n",
       "    <tr>\n",
       "      <th>6927807</th>\n",
       "      <td>12259990</td>\n",
       "      <td>056XX W WASHINGTON BLVD</td>\n",
       "      <td>0486</td>\n",
       "      <td>BATTERY</td>\n",
       "      <td>VIOLENT</td>\n",
       "      <td>DOMESTIC BATTERY SIMPLE</td>\n",
       "      <td>APARTMENT</td>\n",
       "      <td>False</td>\n",
       "      <td>True</td>\n",
       "      <td>15.0</td>\n",
       "      <td>29.0</td>\n",
       "      <td>25.0</td>\n",
       "      <td>08B</td>\n",
       "      <td>2021</td>\n",
       "      <td>41.882224</td>\n",
       "      <td>-87.766076</td>\n",
       "      <td>2021-01-03</td>\n",
       "      <td>00:20:00</td>\n",
       "    </tr>\n",
       "    <tr>\n",
       "      <th>6931849</th>\n",
       "      <td>12260669</td>\n",
       "      <td>057XX S RACINE AVE</td>\n",
       "      <td>2022</td>\n",
       "      <td>NARCOTICS</td>\n",
       "      <td>NON-VIOLENT</td>\n",
       "      <td>POSSESS - COCAINE</td>\n",
       "      <td>STREET</td>\n",
       "      <td>True</td>\n",
       "      <td>False</td>\n",
       "      <td>7.0</td>\n",
       "      <td>16.0</td>\n",
       "      <td>67.0</td>\n",
       "      <td>18</td>\n",
       "      <td>2021</td>\n",
       "      <td>41.790069</td>\n",
       "      <td>-87.654769</td>\n",
       "      <td>2021-01-03</td>\n",
       "      <td>20:47:00</td>\n",
       "    </tr>\n",
       "    <tr>\n",
       "      <th>6931854</th>\n",
       "      <td>25702</td>\n",
       "      <td>068XX S STONY ISLAND AVE</td>\n",
       "      <td>0110</td>\n",
       "      <td>HOMICIDE</td>\n",
       "      <td>VIOLENT</td>\n",
       "      <td>FIRST DEGREE MURDER</td>\n",
       "      <td>STREET</td>\n",
       "      <td>False</td>\n",
       "      <td>False</td>\n",
       "      <td>3.0</td>\n",
       "      <td>5.0</td>\n",
       "      <td>43.0</td>\n",
       "      <td>01A</td>\n",
       "      <td>2021</td>\n",
       "      <td>41.771062</td>\n",
       "      <td>-87.586271</td>\n",
       "      <td>2021-01-03</td>\n",
       "      <td>20:09:00</td>\n",
       "    </tr>\n",
       "  </tbody>\n",
       "</table>\n",
       "</div>"
      ],
      "text/plain": [
       "             ID.1                     Block  IUCR Primary Type  \\\n",
       "ID                                                               \n",
       "6909918  12260346     070XX S EGGLESTON AVE  0486      BATTERY   \n",
       "6927718  12263464          080XX S YALE AVE  0820        THEFT   \n",
       "6927807  12259990   056XX W WASHINGTON BLVD  0486      BATTERY   \n",
       "6931849  12260669        057XX S RACINE AVE  2022    NARCOTICS   \n",
       "6931854     25702  068XX S STONY ISLAND AVE  0110     HOMICIDE   \n",
       "\n",
       "        Violence Status              Description Location Description  Arrest  \\\n",
       "ID                                                                              \n",
       "6909918         VIOLENT  DOMESTIC BATTERY SIMPLE            APARTMENT   False   \n",
       "6927718     NON-VIOLENT           $500 AND UNDER            RESIDENCE   False   \n",
       "6927807         VIOLENT  DOMESTIC BATTERY SIMPLE            APARTMENT   False   \n",
       "6931849     NON-VIOLENT        POSSESS - COCAINE               STREET    True   \n",
       "6931854         VIOLENT      FIRST DEGREE MURDER               STREET   False   \n",
       "\n",
       "         Domestic  District  Ward  Community Area FBI Code  Year   Latitude  \\\n",
       "ID                                                                            \n",
       "6909918      True       7.0   6.0            68.0      08B  2021  41.766435   \n",
       "6927718     False       6.0  17.0            44.0       06  2021  41.748474   \n",
       "6927807      True      15.0  29.0            25.0      08B  2021  41.882224   \n",
       "6931849     False       7.0  16.0            67.0       18  2021  41.790069   \n",
       "6931854     False       3.0   5.0            43.0      01A  2021  41.771062   \n",
       "\n",
       "         Longitude        Date      Time  \n",
       "ID                                        \n",
       "6909918 -87.635964  2021-01-03  13:23:00  \n",
       "6927718 -87.630607  2021-01-03  06:59:00  \n",
       "6927807 -87.766076  2021-01-03  00:20:00  \n",
       "6931849 -87.654769  2021-01-03  20:47:00  \n",
       "6931854 -87.586271  2021-01-03  20:09:00  "
      ]
     },
     "execution_count": 3,
     "metadata": {},
     "output_type": "execute_result"
    }
   ],
   "source": [
    "# Loading crime data\n",
    "file_path = Path(\"Resources/sample_crime_data.csv\")\n",
    "df = pd.read_csv(file_path)\n",
    "df = df.set_index(\"ID\")\n",
    "print(df.shape)\n",
    "df.head()"
   ]
  },
  {
   "cell_type": "code",
   "execution_count": 4,
   "id": "e033af04",
   "metadata": {},
   "outputs": [
    {
     "data": {
      "text/plain": [
       "NON-VIOLENT    135435\n",
       "VIOLENT         71562\n",
       "Name: Violence Status, dtype: int64"
      ]
     },
     "execution_count": 4,
     "metadata": {},
     "output_type": "execute_result"
    }
   ],
   "source": [
    "df['Violence Status'].value_counts()"
   ]
  },
  {
   "cell_type": "code",
   "execution_count": 5,
   "id": "2e482969",
   "metadata": {},
   "outputs": [],
   "source": [
    "street_df = df[(df['Location Description'] == 'STREET') & (df['Date'] >= '2015-01-01')]"
   ]
  },
  {
   "cell_type": "code",
   "execution_count": 6,
   "id": "7849d473",
   "metadata": {},
   "outputs": [
    {
     "name": "stdout",
     "output_type": "stream",
     "text": [
      "(52382, 3)\n"
     ]
    },
    {
     "data": {
      "text/html": [
       "<div>\n",
       "<style scoped>\n",
       "    .dataframe tbody tr th:only-of-type {\n",
       "        vertical-align: middle;\n",
       "    }\n",
       "\n",
       "    .dataframe tbody tr th {\n",
       "        vertical-align: top;\n",
       "    }\n",
       "\n",
       "    .dataframe thead th {\n",
       "        text-align: right;\n",
       "    }\n",
       "</style>\n",
       "<table border=\"1\" class=\"dataframe\">\n",
       "  <thead>\n",
       "    <tr style=\"text-align: right;\">\n",
       "      <th></th>\n",
       "      <th>Violence Status</th>\n",
       "      <th>Community Area</th>\n",
       "      <th>Date</th>\n",
       "    </tr>\n",
       "    <tr>\n",
       "      <th>ID</th>\n",
       "      <th></th>\n",
       "      <th></th>\n",
       "      <th></th>\n",
       "    </tr>\n",
       "  </thead>\n",
       "  <tbody>\n",
       "    <tr>\n",
       "      <th>6931849</th>\n",
       "      <td>NON-VIOLENT</td>\n",
       "      <td>67.0</td>\n",
       "      <td>2021-01-03</td>\n",
       "    </tr>\n",
       "    <tr>\n",
       "      <th>6931854</th>\n",
       "      <td>VIOLENT</td>\n",
       "      <td>43.0</td>\n",
       "      <td>2021-01-03</td>\n",
       "    </tr>\n",
       "    <tr>\n",
       "      <th>6940399</th>\n",
       "      <td>NON-VIOLENT</td>\n",
       "      <td>43.0</td>\n",
       "      <td>2021-01-03</td>\n",
       "    </tr>\n",
       "    <tr>\n",
       "      <th>6940417</th>\n",
       "      <td>NON-VIOLENT</td>\n",
       "      <td>41.0</td>\n",
       "      <td>2021-01-03</td>\n",
       "    </tr>\n",
       "    <tr>\n",
       "      <th>6955690</th>\n",
       "      <td>NON-VIOLENT</td>\n",
       "      <td>75.0</td>\n",
       "      <td>2021-01-03</td>\n",
       "    </tr>\n",
       "  </tbody>\n",
       "</table>\n",
       "</div>"
      ],
      "text/plain": [
       "        Violence Status  Community Area        Date\n",
       "ID                                                 \n",
       "6931849     NON-VIOLENT            67.0  2021-01-03\n",
       "6931854         VIOLENT            43.0  2021-01-03\n",
       "6940399     NON-VIOLENT            43.0  2021-01-03\n",
       "6940417     NON-VIOLENT            41.0  2021-01-03\n",
       "6955690     NON-VIOLENT            75.0  2021-01-03"
      ]
     },
     "execution_count": 6,
     "metadata": {},
     "output_type": "execute_result"
    }
   ],
   "source": [
    "street_df = street_df.drop(columns=['ID.1', 'Block', 'IUCR', 'Description', 'Primary Type','Location Description','Arrest','Domestic',\n",
    "                                    'FBI Code', 'Year', 'Ward', 'District', 'Time', 'Latitude', 'Longitude'])\n",
    "print(street_df.shape)\n",
    "street_df.head()"
   ]
  },
  {
   "cell_type": "code",
   "execution_count": 7,
   "id": "e02e15d3",
   "metadata": {},
   "outputs": [
    {
     "name": "stdout",
     "output_type": "stream",
     "text": [
      "(206997, 18)\n"
     ]
    },
    {
     "data": {
      "text/html": [
       "<div>\n",
       "<style scoped>\n",
       "    .dataframe tbody tr th:only-of-type {\n",
       "        vertical-align: middle;\n",
       "    }\n",
       "\n",
       "    .dataframe tbody tr th {\n",
       "        vertical-align: top;\n",
       "    }\n",
       "\n",
       "    .dataframe thead th {\n",
       "        text-align: right;\n",
       "    }\n",
       "</style>\n",
       "<table border=\"1\" class=\"dataframe\">\n",
       "  <thead>\n",
       "    <tr style=\"text-align: right;\">\n",
       "      <th></th>\n",
       "      <th>Date</th>\n",
       "      <th>Average_Wind_Speed</th>\n",
       "      <th>Average_Temperature</th>\n",
       "      <th>Maximum_Temperature</th>\n",
       "      <th>Minimum_Temperature</th>\n",
       "      <th>Fog_Ice_Freezing_Fog</th>\n",
       "      <th>Heavy_Fog_or_Heavy_Freezing_Fog</th>\n",
       "      <th>Thunder</th>\n",
       "      <th>Hail</th>\n",
       "      <th>Smoke_or_Haze</th>\n",
       "      <th>Mist</th>\n",
       "      <th>Rain</th>\n",
       "      <th>Freezing_Rain</th>\n",
       "      <th>Snow_Snow_Pellets_or_Ice Crystals</th>\n",
       "    </tr>\n",
       "  </thead>\n",
       "  <tbody>\n",
       "    <tr>\n",
       "      <th>0</th>\n",
       "      <td>2010-01-01</td>\n",
       "      <td>10.29</td>\n",
       "      <td>NaN</td>\n",
       "      <td>16.0</td>\n",
       "      <td>5.0</td>\n",
       "      <td>NaN</td>\n",
       "      <td>NaN</td>\n",
       "      <td>NaN</td>\n",
       "      <td>NaN</td>\n",
       "      <td>NaN</td>\n",
       "      <td>NaN</td>\n",
       "      <td>NaN</td>\n",
       "      <td>NaN</td>\n",
       "      <td>1.0</td>\n",
       "    </tr>\n",
       "    <tr>\n",
       "      <th>1</th>\n",
       "      <td>2010-01-02</td>\n",
       "      <td>11.86</td>\n",
       "      <td>NaN</td>\n",
       "      <td>11.0</td>\n",
       "      <td>2.0</td>\n",
       "      <td>NaN</td>\n",
       "      <td>NaN</td>\n",
       "      <td>NaN</td>\n",
       "      <td>NaN</td>\n",
       "      <td>NaN</td>\n",
       "      <td>NaN</td>\n",
       "      <td>NaN</td>\n",
       "      <td>NaN</td>\n",
       "      <td>NaN</td>\n",
       "    </tr>\n",
       "    <tr>\n",
       "      <th>2</th>\n",
       "      <td>2010-01-03</td>\n",
       "      <td>10.29</td>\n",
       "      <td>NaN</td>\n",
       "      <td>18.0</td>\n",
       "      <td>-1.0</td>\n",
       "      <td>NaN</td>\n",
       "      <td>NaN</td>\n",
       "      <td>NaN</td>\n",
       "      <td>NaN</td>\n",
       "      <td>NaN</td>\n",
       "      <td>NaN</td>\n",
       "      <td>1.0</td>\n",
       "      <td>NaN</td>\n",
       "      <td>1.0</td>\n",
       "    </tr>\n",
       "    <tr>\n",
       "      <th>3</th>\n",
       "      <td>2010-01-04</td>\n",
       "      <td>11.41</td>\n",
       "      <td>NaN</td>\n",
       "      <td>18.0</td>\n",
       "      <td>7.0</td>\n",
       "      <td>NaN</td>\n",
       "      <td>NaN</td>\n",
       "      <td>NaN</td>\n",
       "      <td>NaN</td>\n",
       "      <td>NaN</td>\n",
       "      <td>NaN</td>\n",
       "      <td>1.0</td>\n",
       "      <td>NaN</td>\n",
       "      <td>1.0</td>\n",
       "    </tr>\n",
       "    <tr>\n",
       "      <th>4</th>\n",
       "      <td>2010-01-05</td>\n",
       "      <td>8.50</td>\n",
       "      <td>NaN</td>\n",
       "      <td>23.0</td>\n",
       "      <td>13.0</td>\n",
       "      <td>NaN</td>\n",
       "      <td>NaN</td>\n",
       "      <td>NaN</td>\n",
       "      <td>NaN</td>\n",
       "      <td>NaN</td>\n",
       "      <td>NaN</td>\n",
       "      <td>1.0</td>\n",
       "      <td>NaN</td>\n",
       "      <td>1.0</td>\n",
       "    </tr>\n",
       "  </tbody>\n",
       "</table>\n",
       "</div>"
      ],
      "text/plain": [
       "         Date  Average_Wind_Speed  Average_Temperature  Maximum_Temperature  \\\n",
       "0  2010-01-01               10.29                  NaN                 16.0   \n",
       "1  2010-01-02               11.86                  NaN                 11.0   \n",
       "2  2010-01-03               10.29                  NaN                 18.0   \n",
       "3  2010-01-04               11.41                  NaN                 18.0   \n",
       "4  2010-01-05                8.50                  NaN                 23.0   \n",
       "\n",
       "   Minimum_Temperature  Fog_Ice_Freezing_Fog  Heavy_Fog_or_Heavy_Freezing_Fog  \\\n",
       "0                  5.0                   NaN                              NaN   \n",
       "1                  2.0                   NaN                              NaN   \n",
       "2                 -1.0                   NaN                              NaN   \n",
       "3                  7.0                   NaN                              NaN   \n",
       "4                 13.0                   NaN                              NaN   \n",
       "\n",
       "   Thunder  Hail  Smoke_or_Haze  Mist  Rain  Freezing_Rain  \\\n",
       "0      NaN   NaN            NaN   NaN   NaN            NaN   \n",
       "1      NaN   NaN            NaN   NaN   NaN            NaN   \n",
       "2      NaN   NaN            NaN   NaN   1.0            NaN   \n",
       "3      NaN   NaN            NaN   NaN   1.0            NaN   \n",
       "4      NaN   NaN            NaN   NaN   1.0            NaN   \n",
       "\n",
       "   Snow_Snow_Pellets_or_Ice Crystals  \n",
       "0                                1.0  \n",
       "1                                NaN  \n",
       "2                                1.0  \n",
       "3                                1.0  \n",
       "4                                1.0  "
      ]
     },
     "execution_count": 7,
     "metadata": {},
     "output_type": "execute_result"
    }
   ],
   "source": [
    "# Loading weather data\n",
    "file_path = Path(\"Resources/clean_weather_data.csv\")\n",
    "weather_df = pd.read_csv(file_path)\n",
    "#df = df.set_index(\"ID\")\n",
    "print(df.shape)\n",
    "weather_df.head()"
   ]
  },
  {
   "cell_type": "code",
   "execution_count": 8,
   "id": "8994815a",
   "metadata": {},
   "outputs": [],
   "source": [
    "weather_df = weather_df[(weather_df['Date'] >= '2015-01-01')]"
   ]
  },
  {
   "cell_type": "code",
   "execution_count": 9,
   "id": "59439db6",
   "metadata": {},
   "outputs": [
    {
     "name": "stdout",
     "output_type": "stream",
     "text": [
      "(2566, 5)\n"
     ]
    },
    {
     "data": {
      "text/html": [
       "<div>\n",
       "<style scoped>\n",
       "    .dataframe tbody tr th:only-of-type {\n",
       "        vertical-align: middle;\n",
       "    }\n",
       "\n",
       "    .dataframe tbody tr th {\n",
       "        vertical-align: top;\n",
       "    }\n",
       "\n",
       "    .dataframe thead th {\n",
       "        text-align: right;\n",
       "    }\n",
       "</style>\n",
       "<table border=\"1\" class=\"dataframe\">\n",
       "  <thead>\n",
       "    <tr style=\"text-align: right;\">\n",
       "      <th></th>\n",
       "      <th>Date</th>\n",
       "      <th>Average_Wind_Speed</th>\n",
       "      <th>Average_Temperature</th>\n",
       "      <th>Fog_Ice_Freezing_Fog</th>\n",
       "      <th>Smoke_or_Haze</th>\n",
       "    </tr>\n",
       "  </thead>\n",
       "  <tbody>\n",
       "    <tr>\n",
       "      <th>1826</th>\n",
       "      <td>2015-01-01</td>\n",
       "      <td>14.54</td>\n",
       "      <td>20.0</td>\n",
       "      <td>NaN</td>\n",
       "      <td>NaN</td>\n",
       "    </tr>\n",
       "    <tr>\n",
       "      <th>1827</th>\n",
       "      <td>2015-01-02</td>\n",
       "      <td>4.70</td>\n",
       "      <td>26.0</td>\n",
       "      <td>NaN</td>\n",
       "      <td>NaN</td>\n",
       "    </tr>\n",
       "    <tr>\n",
       "      <th>1828</th>\n",
       "      <td>2015-01-03</td>\n",
       "      <td>5.59</td>\n",
       "      <td>31.0</td>\n",
       "      <td>1.0</td>\n",
       "      <td>NaN</td>\n",
       "    </tr>\n",
       "    <tr>\n",
       "      <th>1829</th>\n",
       "      <td>2015-01-04</td>\n",
       "      <td>15.88</td>\n",
       "      <td>29.0</td>\n",
       "      <td>1.0</td>\n",
       "      <td>1.0</td>\n",
       "    </tr>\n",
       "    <tr>\n",
       "      <th>1830</th>\n",
       "      <td>2015-01-05</td>\n",
       "      <td>10.29</td>\n",
       "      <td>2.0</td>\n",
       "      <td>1.0</td>\n",
       "      <td>1.0</td>\n",
       "    </tr>\n",
       "  </tbody>\n",
       "</table>\n",
       "</div>"
      ],
      "text/plain": [
       "            Date  Average_Wind_Speed  Average_Temperature  \\\n",
       "1826  2015-01-01               14.54                 20.0   \n",
       "1827  2015-01-02                4.70                 26.0   \n",
       "1828  2015-01-03                5.59                 31.0   \n",
       "1829  2015-01-04               15.88                 29.0   \n",
       "1830  2015-01-05               10.29                  2.0   \n",
       "\n",
       "      Fog_Ice_Freezing_Fog  Smoke_or_Haze  \n",
       "1826                   NaN            NaN  \n",
       "1827                   NaN            NaN  \n",
       "1828                   1.0            NaN  \n",
       "1829                   1.0            1.0  \n",
       "1830                   1.0            1.0  "
      ]
     },
     "execution_count": 9,
     "metadata": {},
     "output_type": "execute_result"
    }
   ],
   "source": [
    "weather_df = weather_df.drop(columns = ['Heavy_Fog_or_Heavy_Freezing_Fog', 'Mist', 'Freezing_Rain', 'Thunder',\n",
    "                                        'Snow_Snow_Pellets_or_Ice Crystals', 'Hail', 'Rain',\n",
    "                                       'Maximum_Temperature', 'Minimum_Temperature'])\n",
    "print(weather_df.shape)\n",
    "weather_df.head()"
   ]
  },
  {
   "cell_type": "code",
   "execution_count": null,
   "id": "910b53c7",
   "metadata": {},
   "outputs": [],
   "source": []
  },
  {
   "cell_type": "code",
   "execution_count": 10,
   "id": "f27f3491",
   "metadata": {},
   "outputs": [],
   "source": [
    "merged_df = pd.merge(street_df, weather_df, how='left', on='Date')"
   ]
  },
  {
   "cell_type": "code",
   "execution_count": 11,
   "id": "8bb6ced3",
   "metadata": {},
   "outputs": [
    {
     "name": "stdout",
     "output_type": "stream",
     "text": [
      "(52382, 7)\n"
     ]
    },
    {
     "data": {
      "text/html": [
       "<div>\n",
       "<style scoped>\n",
       "    .dataframe tbody tr th:only-of-type {\n",
       "        vertical-align: middle;\n",
       "    }\n",
       "\n",
       "    .dataframe tbody tr th {\n",
       "        vertical-align: top;\n",
       "    }\n",
       "\n",
       "    .dataframe thead th {\n",
       "        text-align: right;\n",
       "    }\n",
       "</style>\n",
       "<table border=\"1\" class=\"dataframe\">\n",
       "  <thead>\n",
       "    <tr style=\"text-align: right;\">\n",
       "      <th></th>\n",
       "      <th>Violence Status</th>\n",
       "      <th>Community Area</th>\n",
       "      <th>Date</th>\n",
       "      <th>Average_Wind_Speed</th>\n",
       "      <th>Average_Temperature</th>\n",
       "      <th>Fog_Ice_Freezing_Fog</th>\n",
       "      <th>Smoke_or_Haze</th>\n",
       "    </tr>\n",
       "  </thead>\n",
       "  <tbody>\n",
       "    <tr>\n",
       "      <th>0</th>\n",
       "      <td>NON-VIOLENT</td>\n",
       "      <td>67.0</td>\n",
       "      <td>2021-01-03</td>\n",
       "      <td>6.93</td>\n",
       "      <td>32.0</td>\n",
       "      <td>1.0</td>\n",
       "      <td>NaN</td>\n",
       "    </tr>\n",
       "    <tr>\n",
       "      <th>1</th>\n",
       "      <td>VIOLENT</td>\n",
       "      <td>43.0</td>\n",
       "      <td>2021-01-03</td>\n",
       "      <td>6.93</td>\n",
       "      <td>32.0</td>\n",
       "      <td>1.0</td>\n",
       "      <td>NaN</td>\n",
       "    </tr>\n",
       "    <tr>\n",
       "      <th>2</th>\n",
       "      <td>NON-VIOLENT</td>\n",
       "      <td>43.0</td>\n",
       "      <td>2021-01-03</td>\n",
       "      <td>6.93</td>\n",
       "      <td>32.0</td>\n",
       "      <td>1.0</td>\n",
       "      <td>NaN</td>\n",
       "    </tr>\n",
       "    <tr>\n",
       "      <th>3</th>\n",
       "      <td>NON-VIOLENT</td>\n",
       "      <td>41.0</td>\n",
       "      <td>2021-01-03</td>\n",
       "      <td>6.93</td>\n",
       "      <td>32.0</td>\n",
       "      <td>1.0</td>\n",
       "      <td>NaN</td>\n",
       "    </tr>\n",
       "    <tr>\n",
       "      <th>4</th>\n",
       "      <td>NON-VIOLENT</td>\n",
       "      <td>75.0</td>\n",
       "      <td>2021-01-03</td>\n",
       "      <td>6.93</td>\n",
       "      <td>32.0</td>\n",
       "      <td>1.0</td>\n",
       "      <td>NaN</td>\n",
       "    </tr>\n",
       "  </tbody>\n",
       "</table>\n",
       "</div>"
      ],
      "text/plain": [
       "  Violence Status  Community Area        Date  Average_Wind_Speed  \\\n",
       "0     NON-VIOLENT            67.0  2021-01-03                6.93   \n",
       "1         VIOLENT            43.0  2021-01-03                6.93   \n",
       "2     NON-VIOLENT            43.0  2021-01-03                6.93   \n",
       "3     NON-VIOLENT            41.0  2021-01-03                6.93   \n",
       "4     NON-VIOLENT            75.0  2021-01-03                6.93   \n",
       "\n",
       "   Average_Temperature  Fog_Ice_Freezing_Fog  Smoke_or_Haze  \n",
       "0                 32.0                   1.0            NaN  \n",
       "1                 32.0                   1.0            NaN  \n",
       "2                 32.0                   1.0            NaN  \n",
       "3                 32.0                   1.0            NaN  \n",
       "4                 32.0                   1.0            NaN  "
      ]
     },
     "execution_count": 11,
     "metadata": {},
     "output_type": "execute_result"
    }
   ],
   "source": [
    "print(merged_df.shape)\n",
    "merged_df.head()"
   ]
  },
  {
   "cell_type": "code",
   "execution_count": 12,
   "id": "b4ae0bd1",
   "metadata": {
    "scrolled": true
   },
   "outputs": [
    {
     "data": {
      "text/plain": [
       "Index(['Violence Status', 'Community Area', 'Date', 'Average_Wind_Speed',\n",
       "       'Average_Temperature', 'Fog_Ice_Freezing_Fog', 'Smoke_or_Haze'],\n",
       "      dtype='object')"
      ]
     },
     "execution_count": 12,
     "metadata": {},
     "output_type": "execute_result"
    }
   ],
   "source": [
    "merged_df.columns"
   ]
  },
  {
   "cell_type": "code",
   "execution_count": 14,
   "id": "60fd1269",
   "metadata": {
    "scrolled": true
   },
   "outputs": [
    {
     "data": {
      "text/html": [
       "<div>\n",
       "<style scoped>\n",
       "    .dataframe tbody tr th:only-of-type {\n",
       "        vertical-align: middle;\n",
       "    }\n",
       "\n",
       "    .dataframe tbody tr th {\n",
       "        vertical-align: top;\n",
       "    }\n",
       "\n",
       "    .dataframe thead th {\n",
       "        text-align: right;\n",
       "    }\n",
       "</style>\n",
       "<table border=\"1\" class=\"dataframe\">\n",
       "  <thead>\n",
       "    <tr style=\"text-align: right;\">\n",
       "      <th></th>\n",
       "      <th>Violence Status</th>\n",
       "      <th>Community Area</th>\n",
       "      <th>Average_Wind_Speed</th>\n",
       "      <th>Average_Temperature</th>\n",
       "      <th>Fog_Ice_Freezing_Fog</th>\n",
       "      <th>Smoke_or_Haze</th>\n",
       "    </tr>\n",
       "  </thead>\n",
       "  <tbody>\n",
       "    <tr>\n",
       "      <th>0</th>\n",
       "      <td>NON-VIOLENT</td>\n",
       "      <td>67.0</td>\n",
       "      <td>6.93</td>\n",
       "      <td>32.0</td>\n",
       "      <td>1.0</td>\n",
       "      <td>0.0</td>\n",
       "    </tr>\n",
       "    <tr>\n",
       "      <th>1</th>\n",
       "      <td>VIOLENT</td>\n",
       "      <td>43.0</td>\n",
       "      <td>6.93</td>\n",
       "      <td>32.0</td>\n",
       "      <td>1.0</td>\n",
       "      <td>0.0</td>\n",
       "    </tr>\n",
       "    <tr>\n",
       "      <th>2</th>\n",
       "      <td>NON-VIOLENT</td>\n",
       "      <td>43.0</td>\n",
       "      <td>6.93</td>\n",
       "      <td>32.0</td>\n",
       "      <td>1.0</td>\n",
       "      <td>0.0</td>\n",
       "    </tr>\n",
       "    <tr>\n",
       "      <th>3</th>\n",
       "      <td>NON-VIOLENT</td>\n",
       "      <td>41.0</td>\n",
       "      <td>6.93</td>\n",
       "      <td>32.0</td>\n",
       "      <td>1.0</td>\n",
       "      <td>0.0</td>\n",
       "    </tr>\n",
       "    <tr>\n",
       "      <th>4</th>\n",
       "      <td>NON-VIOLENT</td>\n",
       "      <td>75.0</td>\n",
       "      <td>6.93</td>\n",
       "      <td>32.0</td>\n",
       "      <td>1.0</td>\n",
       "      <td>0.0</td>\n",
       "    </tr>\n",
       "  </tbody>\n",
       "</table>\n",
       "</div>"
      ],
      "text/plain": [
       "  Violence Status  Community Area  Average_Wind_Speed  Average_Temperature  \\\n",
       "0     NON-VIOLENT            67.0                6.93                 32.0   \n",
       "1         VIOLENT            43.0                6.93                 32.0   \n",
       "2     NON-VIOLENT            43.0                6.93                 32.0   \n",
       "3     NON-VIOLENT            41.0                6.93                 32.0   \n",
       "4     NON-VIOLENT            75.0                6.93                 32.0   \n",
       "\n",
       "   Fog_Ice_Freezing_Fog  Smoke_or_Haze  \n",
       "0                   1.0            0.0  \n",
       "1                   1.0            0.0  \n",
       "2                   1.0            0.0  \n",
       "3                   1.0            0.0  \n",
       "4                   1.0            0.0  "
      ]
     },
     "execution_count": 14,
     "metadata": {},
     "output_type": "execute_result"
    }
   ],
   "source": [
    "df = merged_df.replace(np.nan,0).drop(columns=['Date'])\n",
    "df.head()"
   ]
  },
  {
   "cell_type": "code",
   "execution_count": 37,
   "id": "7ef5bf3d",
   "metadata": {},
   "outputs": [
    {
     "data": {
      "text/html": [
       "<div>\n",
       "<style scoped>\n",
       "    .dataframe tbody tr th:only-of-type {\n",
       "        vertical-align: middle;\n",
       "    }\n",
       "\n",
       "    .dataframe tbody tr th {\n",
       "        vertical-align: top;\n",
       "    }\n",
       "\n",
       "    .dataframe thead th {\n",
       "        text-align: right;\n",
       "    }\n",
       "</style>\n",
       "<table border=\"1\" class=\"dataframe\">\n",
       "  <thead>\n",
       "    <tr style=\"text-align: right;\">\n",
       "      <th></th>\n",
       "      <th>Community Area</th>\n",
       "      <th>Average_Wind_Speed</th>\n",
       "      <th>Average_Temperature</th>\n",
       "      <th>Fog_Ice_Freezing_Fog</th>\n",
       "      <th>Smoke_or_Haze</th>\n",
       "    </tr>\n",
       "  </thead>\n",
       "  <tbody>\n",
       "    <tr>\n",
       "      <th>Community Area</th>\n",
       "      <td>1.000000</td>\n",
       "      <td>0.005800</td>\n",
       "      <td>-0.010850</td>\n",
       "      <td>0.003306</td>\n",
       "      <td>0.002245</td>\n",
       "    </tr>\n",
       "    <tr>\n",
       "      <th>Average_Wind_Speed</th>\n",
       "      <td>0.005800</td>\n",
       "      <td>1.000000</td>\n",
       "      <td>-0.059833</td>\n",
       "      <td>0.114624</td>\n",
       "      <td>-0.024903</td>\n",
       "    </tr>\n",
       "    <tr>\n",
       "      <th>Average_Temperature</th>\n",
       "      <td>-0.010850</td>\n",
       "      <td>-0.059833</td>\n",
       "      <td>1.000000</td>\n",
       "      <td>-0.015572</td>\n",
       "      <td>-0.066302</td>\n",
       "    </tr>\n",
       "    <tr>\n",
       "      <th>Fog_Ice_Freezing_Fog</th>\n",
       "      <td>0.003306</td>\n",
       "      <td>0.114624</td>\n",
       "      <td>-0.015572</td>\n",
       "      <td>1.000000</td>\n",
       "      <td>0.341078</td>\n",
       "    </tr>\n",
       "    <tr>\n",
       "      <th>Smoke_or_Haze</th>\n",
       "      <td>0.002245</td>\n",
       "      <td>-0.024903</td>\n",
       "      <td>-0.066302</td>\n",
       "      <td>0.341078</td>\n",
       "      <td>1.000000</td>\n",
       "    </tr>\n",
       "  </tbody>\n",
       "</table>\n",
       "</div>"
      ],
      "text/plain": [
       "                      Community Area  Average_Wind_Speed  Average_Temperature  \\\n",
       "Community Area              1.000000            0.005800            -0.010850   \n",
       "Average_Wind_Speed          0.005800            1.000000            -0.059833   \n",
       "Average_Temperature        -0.010850           -0.059833             1.000000   \n",
       "Fog_Ice_Freezing_Fog        0.003306            0.114624            -0.015572   \n",
       "Smoke_or_Haze               0.002245           -0.024903            -0.066302   \n",
       "\n",
       "                      Fog_Ice_Freezing_Fog  Smoke_or_Haze  \n",
       "Community Area                    0.003306       0.002245  \n",
       "Average_Wind_Speed                0.114624      -0.024903  \n",
       "Average_Temperature              -0.015572      -0.066302  \n",
       "Fog_Ice_Freezing_Fog              1.000000       0.341078  \n",
       "Smoke_or_Haze                     0.341078       1.000000  "
      ]
     },
     "execution_count": 37,
     "metadata": {},
     "output_type": "execute_result"
    }
   ],
   "source": [
    "df.corr()"
   ]
  },
  {
   "cell_type": "code",
   "execution_count": 15,
   "id": "f5e5a8fc",
   "metadata": {},
   "outputs": [
    {
     "data": {
      "text/plain": [
       "Index(['Violence Status', 'Community Area', 'Average_Wind_Speed',\n",
       "       'Average_Temperature', 'Fog_Ice_Freezing_Fog', 'Smoke_or_Haze'],\n",
       "      dtype='object')"
      ]
     },
     "execution_count": 15,
     "metadata": {},
     "output_type": "execute_result"
    }
   ],
   "source": [
    "df.columns"
   ]
  },
  {
   "cell_type": "code",
   "execution_count": 16,
   "id": "5417e63f",
   "metadata": {},
   "outputs": [
    {
     "data": {
      "text/plain": [
       "Violence Status          2\n",
       "Community Area          77\n",
       "Average_Wind_Speed      68\n",
       "Average_Temperature     76\n",
       "Fog_Ice_Freezing_Fog     2\n",
       "Smoke_or_Haze            2\n",
       "dtype: int64"
      ]
     },
     "execution_count": 16,
     "metadata": {},
     "output_type": "execute_result"
    }
   ],
   "source": [
    "df.nunique()"
   ]
  },
  {
   "cell_type": "code",
   "execution_count": 17,
   "id": "a6885bb4",
   "metadata": {},
   "outputs": [
    {
     "name": "stderr",
     "output_type": "stream",
     "text": [
      "C:\\Users\\kyobu\\anaconda3\\envs\\mlenv\\lib\\site-packages\\seaborn\\_decorators.py:43: FutureWarning: Pass the following variables as keyword args: x, y. From version 0.12, the only valid positional argument will be `data`, and passing other arguments without an explicit keyword will result in an error or misinterpretation.\n",
      "  FutureWarning\n"
     ]
    },
    {
     "data": {
      "image/png": "[encoded data removed]",
      "text/plain": [
       "<Figure size 2160x360 with 1 Axes>"
      ]
     },
     "metadata": {
      "needs_background": "light"
     },
     "output_type": "display_data"
    }
   ],
   "source": [
    "import seaborn as sns\n",
    "from matplotlib import pyplot as plt\n",
    "comm_count = df['Community Area'].value_counts()\n",
    "comm_count = comm_count[:50,]\n",
    "plt.figure(figsize=(30,5))\n",
    "sns.barplot(comm_count.index, comm_count.values, alpha=0.8)\n",
    "plt.show()"
   ]
  },
  {
   "cell_type": "code",
   "execution_count": 18,
   "id": "6355a483",
   "metadata": {},
   "outputs": [
    {
     "name": "stderr",
     "output_type": "stream",
     "text": [
      "C:\\Users\\kyobu\\anaconda3\\envs\\mlenv\\lib\\site-packages\\seaborn\\_decorators.py:43: FutureWarning: Pass the following variables as keyword args: x, y. From version 0.12, the only valid positional argument will be `data`, and passing other arguments without an explicit keyword will result in an error or misinterpretation.\n",
      "  FutureWarning\n"
     ]
    },
    {
     "data": {
      "image/png": "[encoded data removed]",
      "text/plain": [
       "<Figure size 1440x360 with 1 Axes>"
      ]
     },
     "metadata": {
      "needs_background": "light"
     },
     "output_type": "display_data"
    }
   ],
   "source": [
    "temp_count = df['Average_Temperature'].value_counts()\n",
    "temp_count = temp_count[:10,]\n",
    "plt.figure(figsize=(20,5))\n",
    "sns.barplot(temp_count.index, temp_count.values, alpha=0.8)\n",
    "plt.show()"
   ]
  },
  {
   "cell_type": "code",
   "execution_count": 19,
   "id": "75da52bd",
   "metadata": {},
   "outputs": [],
   "source": [
    "y = df['Violence Status']\n",
    "X = df.drop(columns='Violence Status')\n",
    "X = pd.get_dummies(X)"
   ]
  },
  {
   "cell_type": "code",
   "execution_count": 20,
   "id": "292a6710",
   "metadata": {},
   "outputs": [
    {
     "name": "stdout",
     "output_type": "stream",
     "text": [
      "(52382, 5)\n",
      "(52382,)\n"
     ]
    },
    {
     "data": {
      "text/html": [
       "<div>\n",
       "<style scoped>\n",
       "    .dataframe tbody tr th:only-of-type {\n",
       "        vertical-align: middle;\n",
       "    }\n",
       "\n",
       "    .dataframe tbody tr th {\n",
       "        vertical-align: top;\n",
       "    }\n",
       "\n",
       "    .dataframe thead th {\n",
       "        text-align: right;\n",
       "    }\n",
       "</style>\n",
       "<table border=\"1\" class=\"dataframe\">\n",
       "  <thead>\n",
       "    <tr style=\"text-align: right;\">\n",
       "      <th></th>\n",
       "      <th>Community Area</th>\n",
       "      <th>Average_Wind_Speed</th>\n",
       "      <th>Average_Temperature</th>\n",
       "      <th>Fog_Ice_Freezing_Fog</th>\n",
       "      <th>Smoke_or_Haze</th>\n",
       "    </tr>\n",
       "  </thead>\n",
       "  <tbody>\n",
       "    <tr>\n",
       "      <th>0</th>\n",
       "      <td>67.0</td>\n",
       "      <td>6.93</td>\n",
       "      <td>32.0</td>\n",
       "      <td>1.0</td>\n",
       "      <td>0.0</td>\n",
       "    </tr>\n",
       "    <tr>\n",
       "      <th>1</th>\n",
       "      <td>43.0</td>\n",
       "      <td>6.93</td>\n",
       "      <td>32.0</td>\n",
       "      <td>1.0</td>\n",
       "      <td>0.0</td>\n",
       "    </tr>\n",
       "    <tr>\n",
       "      <th>2</th>\n",
       "      <td>43.0</td>\n",
       "      <td>6.93</td>\n",
       "      <td>32.0</td>\n",
       "      <td>1.0</td>\n",
       "      <td>0.0</td>\n",
       "    </tr>\n",
       "    <tr>\n",
       "      <th>3</th>\n",
       "      <td>41.0</td>\n",
       "      <td>6.93</td>\n",
       "      <td>32.0</td>\n",
       "      <td>1.0</td>\n",
       "      <td>0.0</td>\n",
       "    </tr>\n",
       "    <tr>\n",
       "      <th>4</th>\n",
       "      <td>75.0</td>\n",
       "      <td>6.93</td>\n",
       "      <td>32.0</td>\n",
       "      <td>1.0</td>\n",
       "      <td>0.0</td>\n",
       "    </tr>\n",
       "  </tbody>\n",
       "</table>\n",
       "</div>"
      ],
      "text/plain": [
       "   Community Area  Average_Wind_Speed  Average_Temperature  \\\n",
       "0            67.0                6.93                 32.0   \n",
       "1            43.0                6.93                 32.0   \n",
       "2            43.0                6.93                 32.0   \n",
       "3            41.0                6.93                 32.0   \n",
       "4            75.0                6.93                 32.0   \n",
       "\n",
       "   Fog_Ice_Freezing_Fog  Smoke_or_Haze  \n",
       "0                   1.0            0.0  \n",
       "1                   1.0            0.0  \n",
       "2                   1.0            0.0  \n",
       "3                   1.0            0.0  \n",
       "4                   1.0            0.0  "
      ]
     },
     "execution_count": 20,
     "metadata": {},
     "output_type": "execute_result"
    }
   ],
   "source": [
    "print(X.shape)\n",
    "print(y.shape)\n",
    "X.head()\n"
   ]
  },
  {
   "cell_type": "code",
   "execution_count": 21,
   "id": "dd05f4da",
   "metadata": {},
   "outputs": [
    {
     "data": {
      "text/html": [
       "<div>\n",
       "<style scoped>\n",
       "    .dataframe tbody tr th:only-of-type {\n",
       "        vertical-align: middle;\n",
       "    }\n",
       "\n",
       "    .dataframe tbody tr th {\n",
       "        vertical-align: top;\n",
       "    }\n",
       "\n",
       "    .dataframe thead th {\n",
       "        text-align: right;\n",
       "    }\n",
       "</style>\n",
       "<table border=\"1\" class=\"dataframe\">\n",
       "  <thead>\n",
       "    <tr style=\"text-align: right;\">\n",
       "      <th></th>\n",
       "      <th>Community Area</th>\n",
       "      <th>Average_Wind_Speed</th>\n",
       "      <th>Average_Temperature</th>\n",
       "      <th>Fog_Ice_Freezing_Fog</th>\n",
       "      <th>Smoke_or_Haze</th>\n",
       "    </tr>\n",
       "  </thead>\n",
       "  <tbody>\n",
       "    <tr>\n",
       "      <th>count</th>\n",
       "      <td>52382.000000</td>\n",
       "      <td>52382.000000</td>\n",
       "      <td>52382.000000</td>\n",
       "      <td>52382.000000</td>\n",
       "      <td>52382.000000</td>\n",
       "    </tr>\n",
       "    <tr>\n",
       "      <th>mean</th>\n",
       "      <td>37.714902</td>\n",
       "      <td>9.086781</td>\n",
       "      <td>55.430300</td>\n",
       "      <td>0.346760</td>\n",
       "      <td>0.150949</td>\n",
       "    </tr>\n",
       "    <tr>\n",
       "      <th>std</th>\n",
       "      <td>21.005551</td>\n",
       "      <td>3.508695</td>\n",
       "      <td>19.110416</td>\n",
       "      <td>0.475943</td>\n",
       "      <td>0.358002</td>\n",
       "    </tr>\n",
       "    <tr>\n",
       "      <th>min</th>\n",
       "      <td>1.000000</td>\n",
       "      <td>0.000000</td>\n",
       "      <td>0.000000</td>\n",
       "      <td>0.000000</td>\n",
       "      <td>0.000000</td>\n",
       "    </tr>\n",
       "    <tr>\n",
       "      <th>25%</th>\n",
       "      <td>24.000000</td>\n",
       "      <td>6.710000</td>\n",
       "      <td>40.000000</td>\n",
       "      <td>0.000000</td>\n",
       "      <td>0.000000</td>\n",
       "    </tr>\n",
       "    <tr>\n",
       "      <th>50%</th>\n",
       "      <td>32.000000</td>\n",
       "      <td>8.720000</td>\n",
       "      <td>57.000000</td>\n",
       "      <td>0.000000</td>\n",
       "      <td>0.000000</td>\n",
       "    </tr>\n",
       "    <tr>\n",
       "      <th>75%</th>\n",
       "      <td>56.000000</td>\n",
       "      <td>10.960000</td>\n",
       "      <td>72.000000</td>\n",
       "      <td>1.000000</td>\n",
       "      <td>0.000000</td>\n",
       "    </tr>\n",
       "    <tr>\n",
       "      <th>max</th>\n",
       "      <td>77.000000</td>\n",
       "      <td>27.960000</td>\n",
       "      <td>84.000000</td>\n",
       "      <td>1.000000</td>\n",
       "      <td>1.000000</td>\n",
       "    </tr>\n",
       "  </tbody>\n",
       "</table>\n",
       "</div>"
      ],
      "text/plain": [
       "       Community Area  Average_Wind_Speed  Average_Temperature  \\\n",
       "count    52382.000000        52382.000000         52382.000000   \n",
       "mean        37.714902            9.086781            55.430300   \n",
       "std         21.005551            3.508695            19.110416   \n",
       "min          1.000000            0.000000             0.000000   \n",
       "25%         24.000000            6.710000            40.000000   \n",
       "50%         32.000000            8.720000            57.000000   \n",
       "75%         56.000000           10.960000            72.000000   \n",
       "max         77.000000           27.960000            84.000000   \n",
       "\n",
       "       Fog_Ice_Freezing_Fog  Smoke_or_Haze  \n",
       "count          52382.000000   52382.000000  \n",
       "mean               0.346760       0.150949  \n",
       "std                0.475943       0.358002  \n",
       "min                0.000000       0.000000  \n",
       "25%                0.000000       0.000000  \n",
       "50%                0.000000       0.000000  \n",
       "75%                1.000000       0.000000  \n",
       "max                1.000000       1.000000  "
      ]
     },
     "execution_count": 21,
     "metadata": {},
     "output_type": "execute_result"
    }
   ],
   "source": [
    "X.describe()"
   ]
  },
  {
   "cell_type": "code",
   "execution_count": 22,
   "id": "b92eb80b",
   "metadata": {},
   "outputs": [
    {
     "data": {
      "text/plain": [
       "NON-VIOLENT    38149\n",
       "VIOLENT        14233\n",
       "Name: Violence Status, dtype: int64"
      ]
     },
     "execution_count": 22,
     "metadata": {},
     "output_type": "execute_result"
    }
   ],
   "source": [
    "y.value_counts()"
   ]
  },
  {
   "cell_type": "code",
   "execution_count": 23,
   "id": "5daf2258",
   "metadata": {},
   "outputs": [
    {
     "data": {
      "text/plain": [
       "(39286, 5)"
      ]
     },
     "execution_count": 23,
     "metadata": {},
     "output_type": "execute_result"
    }
   ],
   "source": [
    "X_train,X_test,y_train,y_test = train_test_split(X,y, random_state=42)\n",
    "\n",
    "X_train.shape"
   ]
  },
  {
   "cell_type": "code",
   "execution_count": 24,
   "id": "680f6a64",
   "metadata": {},
   "outputs": [],
   "source": [
    "# Creating StandardScaler instance\n",
    "scaler = StandardScaler()\n",
    "# Fitting Standard Scaller\n",
    "X_scaler = scaler.fit(X_train)\n",
    "# Scaling data\n",
    "X_train_scaled = scaler.transform(X_train)\n",
    "X_test_scaled = scaler.transform(X_test)"
   ]
  },
  {
   "cell_type": "code",
   "execution_count": 25,
   "id": "631c81bb",
   "metadata": {},
   "outputs": [],
   "source": [
    "# Create a random forest classifier.\n",
    "rf_model = RandomForestClassifier(n_estimators=128, random_state=78) "
   ]
  },
  {
   "cell_type": "code",
   "execution_count": 26,
   "id": "87f70e1e",
   "metadata": {},
   "outputs": [],
   "source": [
    "# Fitting the model\n",
    "rf_model = rf_model.fit(X_train_scaled, y_train)"
   ]
  },
  {
   "cell_type": "code",
   "execution_count": 27,
   "id": "1ddc2d7e",
   "metadata": {},
   "outputs": [],
   "source": [
    "# Making predictions using the testing data.\n",
    "predictions = rf_model.predict(X_test_scaled)"
   ]
  },
  {
   "cell_type": "code",
   "execution_count": 28,
   "id": "36a3b35f",
   "metadata": {},
   "outputs": [
    {
     "data": {
      "text/plain": [
       "array(['VIOLENT', 'NON-VIOLENT', 'NON-VIOLENT', ..., 'NON-VIOLENT',\n",
       "       'NON-VIOLENT', 'NON-VIOLENT'], dtype=object)"
      ]
     },
     "execution_count": 28,
     "metadata": {},
     "output_type": "execute_result"
    }
   ],
   "source": [
    "predictions"
   ]
  },
  {
   "cell_type": "code",
   "execution_count": 29,
   "id": "f1bfd4dd",
   "metadata": {},
   "outputs": [
    {
     "data": {
      "text/plain": [
       "array(['VIOLENT', 'NON-VIOLENT', 'NON-VIOLENT', ..., 'NON-VIOLENT',\n",
       "       'NON-VIOLENT', 'NON-VIOLENT'], dtype=object)"
      ]
     },
     "execution_count": 29,
     "metadata": {},
     "output_type": "execute_result"
    }
   ],
   "source": [
    "rf_model.predict(X_test_scaled)"
   ]
  },
  {
   "cell_type": "code",
   "execution_count": 30,
   "id": "c24a68c8",
   "metadata": {},
   "outputs": [],
   "source": [
    "# Calculating the confusion matrix.\n",
    "cm = confusion_matrix(y_test, predictions)\n",
    "\n",
    "# Create a DataFrame from the confusion matrix.\n",
    "cm_df = pd.DataFrame(\n",
    "    cm, index=[\"Actual Non-voilent\", \"Actual Violent\"], columns=[\"Predicted Non-violent\", \"Predicted Violent\"])\n",
    "\n",
    "cm_df\n",
    "\n",
    "# Calculating the accuracy score\n",
    "acc_score = accuracy_score(y_test, predictions)"
   ]
  },
  {
   "cell_type": "code",
   "execution_count": 31,
   "id": "bbe5e66f",
   "metadata": {},
   "outputs": [
    {
     "name": "stdout",
     "output_type": "stream",
     "text": [
      "Confusion Matrix\n"
     ]
    },
    {
     "data": {
      "text/html": [
       "<div>\n",
       "<style scoped>\n",
       "    .dataframe tbody tr th:only-of-type {\n",
       "        vertical-align: middle;\n",
       "    }\n",
       "\n",
       "    .dataframe tbody tr th {\n",
       "        vertical-align: top;\n",
       "    }\n",
       "\n",
       "    .dataframe thead th {\n",
       "        text-align: right;\n",
       "    }\n",
       "</style>\n",
       "<table border=\"1\" class=\"dataframe\">\n",
       "  <thead>\n",
       "    <tr style=\"text-align: right;\">\n",
       "      <th></th>\n",
       "      <th>Predicted Non-violent</th>\n",
       "      <th>Predicted Violent</th>\n",
       "    </tr>\n",
       "  </thead>\n",
       "  <tbody>\n",
       "    <tr>\n",
       "      <th>Actual Non-voilent</th>\n",
       "      <td>7892</td>\n",
       "      <td>1646</td>\n",
       "    </tr>\n",
       "    <tr>\n",
       "      <th>Actual Violent</th>\n",
       "      <td>2867</td>\n",
       "      <td>691</td>\n",
       "    </tr>\n",
       "  </tbody>\n",
       "</table>\n",
       "</div>"
      ],
      "text/plain": [
       "                    Predicted Non-violent  Predicted Violent\n",
       "Actual Non-voilent                   7892               1646\n",
       "Actual Violent                       2867                691"
      ]
     },
     "metadata": {},
     "output_type": "display_data"
    },
    {
     "name": "stdout",
     "output_type": "stream",
     "text": [
      "Accuracy Score : 0.6553909590714722\n",
      "Classification Report\n",
      "              precision    recall  f1-score   support\n",
      "\n",
      " NON-VIOLENT       0.73      0.83      0.78      9538\n",
      "     VIOLENT       0.30      0.19      0.23      3558\n",
      "\n",
      "    accuracy                           0.66     13096\n",
      "   macro avg       0.51      0.51      0.51     13096\n",
      "weighted avg       0.61      0.66      0.63     13096\n",
      "\n"
     ]
    }
   ],
   "source": [
    "# Displaying results\n",
    "print(\"Confusion Matrix\")\n",
    "display(cm_df)\n",
    "print(f\"Accuracy Score : {acc_score}\")\n",
    "print(\"Classification Report\")\n",
    "print(classification_report(y_test, predictions))"
   ]
  },
  {
   "cell_type": "code",
   "execution_count": 32,
   "id": "a1d91149",
   "metadata": {},
   "outputs": [
    {
     "data": {
      "image/png": "[encoded data removed]",
      "text/plain": [
       "<Figure size 720x360 with 1 Axes>"
      ]
     },
     "metadata": {
      "needs_background": "light"
     },
     "output_type": "display_data"
    }
   ],
   "source": [
    "feature_importances = rf_model.feature_importances_\n",
    "%matplotlib inline\n",
    "from matplotlib import pyplot as plt\n",
    "features = sorted(zip(X.columns, rf_model.feature_importances_), key = lambda x: x[1])\n",
    "cols = [f[0] for f in features]\n",
    "width = [f[1] for f in features]\n",
    "\n",
    "fig, ax = plt.subplots()\n",
    "\n",
    "fig.set_size_inches(10,5)\n",
    "plt.margins(y=0.001)\n",
    "\n",
    "ax.barh(y=cols, width=width)\n",
    "\n",
    "plt.show()\n"
   ]
  },
  {
   "cell_type": "code",
   "execution_count": 36,
   "id": "6d94c909",
   "metadata": {},
   "outputs": [
    {
     "data": {
      "text/plain": [
       "array(['NON-VIOLENT'], dtype=object)"
      ]
     },
     "execution_count": 36,
     "metadata": {},
     "output_type": "execute_result"
    }
   ],
   "source": [
    "rf_model.predict([[25, 10, 89, 0, 0]])"
   ]
  },
  {
   "cell_type": "code",
   "execution_count": null,
   "id": "37ff1c27",
   "metadata": {},
   "outputs": [],
   "source": []
  }
 ],
 "metadata": {
  "kernelspec": {
   "display_name": "mlenv",
   "language": "python",
   "name": "mlenv"
  },
  "language_info": {
   "codemirror_mode": {
    "name": "ipython",
    "version": 3
   },
   "file_extension": ".py",
   "mimetype": "text/x-python",
   "name": "python",
   "nbconvert_exporter": "python",
   "pygments_lexer": "ipython3",
   "version": "3.7.11"
  }
 },
 "nbformat": 4,
 "nbformat_minor": 5
}

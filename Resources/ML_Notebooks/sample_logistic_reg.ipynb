{
 "cells": [
  {
   "cell_type": "code",
   "execution_count": 1,
   "id": "e8b8792b",
   "metadata": {},
   "outputs": [],
   "source": [
    "import pandas as pd\n",
    "from path import Path\n",
    "from sklearn import tree\n",
    "from sklearn.linear_model import LogisticRegression\n",
    "from sklearn.ensemble import RandomForestClassifier\n",
    "from sklearn.preprocessing import StandardScaler, OneHotEncoder\n",
    "from sklearn.model_selection import train_test_split\n",
    "from sklearn.metrics import confusion_matrix, accuracy_score, classification_report\n",
    "from sklearn.svm import SVC"
   ]
  },
  {
   "cell_type": "code",
   "execution_count": 2,
   "id": "8dbdae49",
   "metadata": {},
   "outputs": [
    {
     "name": "stdout",
     "output_type": "stream",
     "text": [
      "(206997, 18)\n"
     ]
    },
    {
     "data": {
      "text/html": [
       "<div>\n",
       "<style scoped>\n",
       "    .dataframe tbody tr th:only-of-type {\n",
       "        vertical-align: middle;\n",
       "    }\n",
       "\n",
       "    .dataframe tbody tr th {\n",
       "        vertical-align: top;\n",
       "    }\n",
       "\n",
       "    .dataframe thead th {\n",
       "        text-align: right;\n",
       "    }\n",
       "</style>\n",
       "<table border=\"1\" class=\"dataframe\">\n",
       "  <thead>\n",
       "    <tr style=\"text-align: right;\">\n",
       "      <th></th>\n",
       "      <th>ID.1</th>\n",
       "      <th>Block</th>\n",
       "      <th>IUCR</th>\n",
       "      <th>Primary Type</th>\n",
       "      <th>Violence Status</th>\n",
       "      <th>Description</th>\n",
       "      <th>Location Description</th>\n",
       "      <th>Arrest</th>\n",
       "      <th>Domestic</th>\n",
       "      <th>District</th>\n",
       "      <th>Ward</th>\n",
       "      <th>Community Area</th>\n",
       "      <th>FBI Code</th>\n",
       "      <th>Year</th>\n",
       "      <th>Latitude</th>\n",
       "      <th>Longitude</th>\n",
       "      <th>Date</th>\n",
       "      <th>Time</th>\n",
       "    </tr>\n",
       "    <tr>\n",
       "      <th>ID</th>\n",
       "      <th></th>\n",
       "      <th></th>\n",
       "      <th></th>\n",
       "      <th></th>\n",
       "      <th></th>\n",
       "      <th></th>\n",
       "      <th></th>\n",
       "      <th></th>\n",
       "      <th></th>\n",
       "      <th></th>\n",
       "      <th></th>\n",
       "      <th></th>\n",
       "      <th></th>\n",
       "      <th></th>\n",
       "      <th></th>\n",
       "      <th></th>\n",
       "      <th></th>\n",
       "      <th></th>\n",
       "    </tr>\n",
       "  </thead>\n",
       "  <tbody>\n",
       "    <tr>\n",
       "      <th>6909918</th>\n",
       "      <td>12260346</td>\n",
       "      <td>070XX S EGGLESTON AVE</td>\n",
       "      <td>0486</td>\n",
       "      <td>BATTERY</td>\n",
       "      <td>VIOLENT</td>\n",
       "      <td>DOMESTIC BATTERY SIMPLE</td>\n",
       "      <td>APARTMENT</td>\n",
       "      <td>False</td>\n",
       "      <td>True</td>\n",
       "      <td>7.0</td>\n",
       "      <td>6.0</td>\n",
       "      <td>68.0</td>\n",
       "      <td>08B</td>\n",
       "      <td>2021</td>\n",
       "      <td>41.766435</td>\n",
       "      <td>-87.635964</td>\n",
       "      <td>2021-01-03</td>\n",
       "      <td>13:23:00</td>\n",
       "    </tr>\n",
       "    <tr>\n",
       "      <th>6927718</th>\n",
       "      <td>12263464</td>\n",
       "      <td>080XX S YALE AVE</td>\n",
       "      <td>0820</td>\n",
       "      <td>THEFT</td>\n",
       "      <td>NON-VIOLENT</td>\n",
       "      <td>$500 AND UNDER</td>\n",
       "      <td>RESIDENCE</td>\n",
       "      <td>False</td>\n",
       "      <td>False</td>\n",
       "      <td>6.0</td>\n",
       "      <td>17.0</td>\n",
       "      <td>44.0</td>\n",
       "      <td>06</td>\n",
       "      <td>2021</td>\n",
       "      <td>41.748474</td>\n",
       "      <td>-87.630607</td>\n",
       "      <td>2021-01-03</td>\n",
       "      <td>06:59:00</td>\n",
       "    </tr>\n",
       "    <tr>\n",
       "      <th>6927807</th>\n",
       "      <td>12259990</td>\n",
       "      <td>056XX W WASHINGTON BLVD</td>\n",
       "      <td>0486</td>\n",
       "      <td>BATTERY</td>\n",
       "      <td>VIOLENT</td>\n",
       "      <td>DOMESTIC BATTERY SIMPLE</td>\n",
       "      <td>APARTMENT</td>\n",
       "      <td>False</td>\n",
       "      <td>True</td>\n",
       "      <td>15.0</td>\n",
       "      <td>29.0</td>\n",
       "      <td>25.0</td>\n",
       "      <td>08B</td>\n",
       "      <td>2021</td>\n",
       "      <td>41.882224</td>\n",
       "      <td>-87.766076</td>\n",
       "      <td>2021-01-03</td>\n",
       "      <td>00:20:00</td>\n",
       "    </tr>\n",
       "    <tr>\n",
       "      <th>6931849</th>\n",
       "      <td>12260669</td>\n",
       "      <td>057XX S RACINE AVE</td>\n",
       "      <td>2022</td>\n",
       "      <td>NARCOTICS</td>\n",
       "      <td>NON-VIOLENT</td>\n",
       "      <td>POSSESS - COCAINE</td>\n",
       "      <td>STREET</td>\n",
       "      <td>True</td>\n",
       "      <td>False</td>\n",
       "      <td>7.0</td>\n",
       "      <td>16.0</td>\n",
       "      <td>67.0</td>\n",
       "      <td>18</td>\n",
       "      <td>2021</td>\n",
       "      <td>41.790069</td>\n",
       "      <td>-87.654769</td>\n",
       "      <td>2021-01-03</td>\n",
       "      <td>20:47:00</td>\n",
       "    </tr>\n",
       "    <tr>\n",
       "      <th>6931854</th>\n",
       "      <td>25702</td>\n",
       "      <td>068XX S STONY ISLAND AVE</td>\n",
       "      <td>0110</td>\n",
       "      <td>HOMICIDE</td>\n",
       "      <td>VIOLENT</td>\n",
       "      <td>FIRST DEGREE MURDER</td>\n",
       "      <td>STREET</td>\n",
       "      <td>False</td>\n",
       "      <td>False</td>\n",
       "      <td>3.0</td>\n",
       "      <td>5.0</td>\n",
       "      <td>43.0</td>\n",
       "      <td>01A</td>\n",
       "      <td>2021</td>\n",
       "      <td>41.771062</td>\n",
       "      <td>-87.586271</td>\n",
       "      <td>2021-01-03</td>\n",
       "      <td>20:09:00</td>\n",
       "    </tr>\n",
       "  </tbody>\n",
       "</table>\n",
       "</div>"
      ],
      "text/plain": [
       "             ID.1                     Block  IUCR Primary Type  \\\n",
       "ID                                                               \n",
       "6909918  12260346     070XX S EGGLESTON AVE  0486      BATTERY   \n",
       "6927718  12263464          080XX S YALE AVE  0820        THEFT   \n",
       "6927807  12259990   056XX W WASHINGTON BLVD  0486      BATTERY   \n",
       "6931849  12260669        057XX S RACINE AVE  2022    NARCOTICS   \n",
       "6931854     25702  068XX S STONY ISLAND AVE  0110     HOMICIDE   \n",
       "\n",
       "        Violence Status              Description Location Description  Arrest  \\\n",
       "ID                                                                              \n",
       "6909918         VIOLENT  DOMESTIC BATTERY SIMPLE            APARTMENT   False   \n",
       "6927718     NON-VIOLENT           $500 AND UNDER            RESIDENCE   False   \n",
       "6927807         VIOLENT  DOMESTIC BATTERY SIMPLE            APARTMENT   False   \n",
       "6931849     NON-VIOLENT        POSSESS - COCAINE               STREET    True   \n",
       "6931854         VIOLENT      FIRST DEGREE MURDER               STREET   False   \n",
       "\n",
       "         Domestic  District  Ward  Community Area FBI Code  Year   Latitude  \\\n",
       "ID                                                                            \n",
       "6909918      True       7.0   6.0            68.0      08B  2021  41.766435   \n",
       "6927718     False       6.0  17.0            44.0       06  2021  41.748474   \n",
       "6927807      True      15.0  29.0            25.0      08B  2021  41.882224   \n",
       "6931849     False       7.0  16.0            67.0       18  2021  41.790069   \n",
       "6931854     False       3.0   5.0            43.0      01A  2021  41.771062   \n",
       "\n",
       "         Longitude        Date      Time  \n",
       "ID                                        \n",
       "6909918 -87.635964  2021-01-03  13:23:00  \n",
       "6927718 -87.630607  2021-01-03  06:59:00  \n",
       "6927807 -87.766076  2021-01-03  00:20:00  \n",
       "6931849 -87.654769  2021-01-03  20:47:00  \n",
       "6931854 -87.586271  2021-01-03  20:09:00  "
      ]
     },
     "execution_count": 2,
     "metadata": {},
     "output_type": "execute_result"
    }
   ],
   "source": [
    "# Loading data\n",
    "file_path = Path(\"Resources/sample_crime_data.csv\")\n",
    "df = pd.read_csv(file_path)\n",
    "df = df.set_index(\"ID\")\n",
    "print(df.shape)\n",
    "df.head()"
   ]
  },
  {
   "cell_type": "code",
   "execution_count": 3,
   "id": "9bf3d6d0",
   "metadata": {},
   "outputs": [
    {
     "data": {
      "text/plain": [
       "ID.1                      int64\n",
       "Block                    object\n",
       "IUCR                     object\n",
       "Primary Type             object\n",
       "Violence Status          object\n",
       "Description              object\n",
       "Location Description     object\n",
       "Arrest                     bool\n",
       "Domestic                   bool\n",
       "District                float64\n",
       "Ward                    float64\n",
       "Community Area          float64\n",
       "FBI Code                 object\n",
       "Year                      int64\n",
       "Latitude                float64\n",
       "Longitude               float64\n",
       "Date                     object\n",
       "Time                     object\n",
       "dtype: object"
      ]
     },
     "execution_count": 3,
     "metadata": {},
     "output_type": "execute_result"
    }
   ],
   "source": [
    "df.dtypes"
   ]
  },
  {
   "cell_type": "code",
   "execution_count": 4,
   "id": "00f80362",
   "metadata": {},
   "outputs": [
    {
     "data": {
      "text/plain": [
       "Block                   26955\n",
       "IUCR                      300\n",
       "Primary Type               31\n",
       "Violence Status             2\n",
       "Description               278\n",
       "Location Description      126\n",
       "FBI Code                   26\n",
       "Date                      370\n",
       "Time                     1450\n",
       "dtype: int64"
      ]
     },
     "execution_count": 4,
     "metadata": {},
     "output_type": "execute_result"
    }
   ],
   "source": [
    "# Generate our categorical variable list\n",
    "df_cat = df.dtypes[df.dtypes == \"object\"].index.tolist()\n",
    "\n",
    "\n",
    "# Check the number of unique values in each column\n",
    "df[df_cat].nunique()"
   ]
  },
  {
   "cell_type": "code",
   "execution_count": 5,
   "id": "e033af04",
   "metadata": {},
   "outputs": [
    {
     "data": {
      "text/plain": [
       "NON-VIOLENT    135435\n",
       "VIOLENT         71562\n",
       "Name: Violence Status, dtype: int64"
      ]
     },
     "execution_count": 5,
     "metadata": {},
     "output_type": "execute_result"
    }
   ],
   "source": [
    "df['Violence Status'].value_counts()"
   ]
  },
  {
   "cell_type": "code",
   "execution_count": 6,
   "id": "fc379432",
   "metadata": {},
   "outputs": [
    {
     "data": {
      "text/html": [
       "<div>\n",
       "<style scoped>\n",
       "    .dataframe tbody tr th:only-of-type {\n",
       "        vertical-align: middle;\n",
       "    }\n",
       "\n",
       "    .dataframe tbody tr th {\n",
       "        vertical-align: top;\n",
       "    }\n",
       "\n",
       "    .dataframe thead th {\n",
       "        text-align: right;\n",
       "    }\n",
       "</style>\n",
       "<table border=\"1\" class=\"dataframe\">\n",
       "  <thead>\n",
       "    <tr style=\"text-align: right;\">\n",
       "      <th></th>\n",
       "      <th>Date</th>\n",
       "      <th>Violence Status</th>\n",
       "    </tr>\n",
       "    <tr>\n",
       "      <th>ID</th>\n",
       "      <th></th>\n",
       "      <th></th>\n",
       "    </tr>\n",
       "  </thead>\n",
       "  <tbody>\n",
       "    <tr>\n",
       "      <th>6909918</th>\n",
       "      <td>2021-01-03</td>\n",
       "      <td>VIOLENT</td>\n",
       "    </tr>\n",
       "    <tr>\n",
       "      <th>6927718</th>\n",
       "      <td>2021-01-03</td>\n",
       "      <td>NON-VIOLENT</td>\n",
       "    </tr>\n",
       "    <tr>\n",
       "      <th>6927807</th>\n",
       "      <td>2021-01-03</td>\n",
       "      <td>VIOLENT</td>\n",
       "    </tr>\n",
       "    <tr>\n",
       "      <th>6931849</th>\n",
       "      <td>2021-01-03</td>\n",
       "      <td>NON-VIOLENT</td>\n",
       "    </tr>\n",
       "    <tr>\n",
       "      <th>6931854</th>\n",
       "      <td>2021-01-03</td>\n",
       "      <td>VIOLENT</td>\n",
       "    </tr>\n",
       "  </tbody>\n",
       "</table>\n",
       "</div>"
      ],
      "text/plain": [
       "               Date Violence Status\n",
       "ID                                 \n",
       "6909918  2021-01-03         VIOLENT\n",
       "6927718  2021-01-03     NON-VIOLENT\n",
       "6927807  2021-01-03         VIOLENT\n",
       "6931849  2021-01-03     NON-VIOLENT\n",
       "6931854  2021-01-03         VIOLENT"
      ]
     },
     "execution_count": 6,
     "metadata": {},
     "output_type": "execute_result"
    }
   ],
   "source": [
    "df = df[['Date','Violence Status']]\n",
    "df.head()"
   ]
  },
  {
   "cell_type": "code",
   "execution_count": 7,
   "id": "9cfd12fe",
   "metadata": {},
   "outputs": [],
   "source": [
    "# create sample weather data\n",
    "import numpy as np\n",
    "\n",
    "Chicago_Weather_df = pd.DataFrame({'Temp':np.random.uniform(-10,70,206997),'Date':df.Date}).set_index('Date').reset_index()"
   ]
  },
  {
   "cell_type": "code",
   "execution_count": 8,
   "id": "7557b92b",
   "metadata": {},
   "outputs": [],
   "source": [
    "df = df.set_index('Date').reset_index()"
   ]
  },
  {
   "cell_type": "code",
   "execution_count": 9,
   "id": "f27f3491",
   "metadata": {},
   "outputs": [],
   "source": [
    "merged_df = df.merge(Chicago_Weather_df,on='Date').drop(columns='Date')"
   ]
  },
  {
   "cell_type": "code",
   "execution_count": 10,
   "id": "8bb6ced3",
   "metadata": {},
   "outputs": [
    {
     "data": {
      "text/html": [
       "<div>\n",
       "<style scoped>\n",
       "    .dataframe tbody tr th:only-of-type {\n",
       "        vertical-align: middle;\n",
       "    }\n",
       "\n",
       "    .dataframe tbody tr th {\n",
       "        vertical-align: top;\n",
       "    }\n",
       "\n",
       "    .dataframe thead th {\n",
       "        text-align: right;\n",
       "    }\n",
       "</style>\n",
       "<table border=\"1\" class=\"dataframe\">\n",
       "  <thead>\n",
       "    <tr style=\"text-align: right;\">\n",
       "      <th></th>\n",
       "      <th>Violence Status</th>\n",
       "      <th>Temp</th>\n",
       "    </tr>\n",
       "  </thead>\n",
       "  <tbody>\n",
       "    <tr>\n",
       "      <th>0</th>\n",
       "      <td>VIOLENT</td>\n",
       "      <td>38.202938</td>\n",
       "    </tr>\n",
       "    <tr>\n",
       "      <th>1</th>\n",
       "      <td>VIOLENT</td>\n",
       "      <td>59.132091</td>\n",
       "    </tr>\n",
       "    <tr>\n",
       "      <th>2</th>\n",
       "      <td>VIOLENT</td>\n",
       "      <td>49.818465</td>\n",
       "    </tr>\n",
       "    <tr>\n",
       "      <th>3</th>\n",
       "      <td>VIOLENT</td>\n",
       "      <td>-3.623086</td>\n",
       "    </tr>\n",
       "    <tr>\n",
       "      <th>4</th>\n",
       "      <td>VIOLENT</td>\n",
       "      <td>30.943212</td>\n",
       "    </tr>\n",
       "  </tbody>\n",
       "</table>\n",
       "</div>"
      ],
      "text/plain": [
       "  Violence Status       Temp\n",
       "0         VIOLENT  38.202938\n",
       "1         VIOLENT  59.132091\n",
       "2         VIOLENT  49.818465\n",
       "3         VIOLENT  -3.623086\n",
       "4         VIOLENT  30.943212"
      ]
     },
     "execution_count": 10,
     "metadata": {},
     "output_type": "execute_result"
    }
   ],
   "source": [
    "merged_df.head()"
   ]
  },
  {
   "cell_type": "code",
   "execution_count": 15,
   "id": "a2972c8a",
   "metadata": {},
   "outputs": [
    {
     "data": {
      "text/html": [
       "<div>\n",
       "<style scoped>\n",
       "    .dataframe tbody tr th:only-of-type {\n",
       "        vertical-align: middle;\n",
       "    }\n",
       "\n",
       "    .dataframe tbody tr th {\n",
       "        vertical-align: top;\n",
       "    }\n",
       "\n",
       "    .dataframe thead th {\n",
       "        text-align: right;\n",
       "    }\n",
       "</style>\n",
       "<table border=\"1\" class=\"dataframe\">\n",
       "  <thead>\n",
       "    <tr style=\"text-align: right;\">\n",
       "      <th></th>\n",
       "      <th>Violence Status</th>\n",
       "      <th>Temp</th>\n",
       "    </tr>\n",
       "  </thead>\n",
       "  <tbody>\n",
       "    <tr>\n",
       "      <th>0</th>\n",
       "      <td>NON-VIOLENT</td>\n",
       "      <td>44.425220</td>\n",
       "    </tr>\n",
       "    <tr>\n",
       "      <th>1</th>\n",
       "      <td>VIOLENT</td>\n",
       "      <td>-8.674899</td>\n",
       "    </tr>\n",
       "    <tr>\n",
       "      <th>2</th>\n",
       "      <td>VIOLENT</td>\n",
       "      <td>22.898026</td>\n",
       "    </tr>\n",
       "    <tr>\n",
       "      <th>3</th>\n",
       "      <td>VIOLENT</td>\n",
       "      <td>27.636420</td>\n",
       "    </tr>\n",
       "    <tr>\n",
       "      <th>4</th>\n",
       "      <td>NON-VIOLENT</td>\n",
       "      <td>27.661422</td>\n",
       "    </tr>\n",
       "    <tr>\n",
       "      <th>...</th>\n",
       "      <td>...</td>\n",
       "      <td>...</td>\n",
       "    </tr>\n",
       "    <tr>\n",
       "      <th>9995</th>\n",
       "      <td>VIOLENT</td>\n",
       "      <td>36.494386</td>\n",
       "    </tr>\n",
       "    <tr>\n",
       "      <th>9996</th>\n",
       "      <td>NON-VIOLENT</td>\n",
       "      <td>64.575210</td>\n",
       "    </tr>\n",
       "    <tr>\n",
       "      <th>9997</th>\n",
       "      <td>NON-VIOLENT</td>\n",
       "      <td>34.729582</td>\n",
       "    </tr>\n",
       "    <tr>\n",
       "      <th>9998</th>\n",
       "      <td>NON-VIOLENT</td>\n",
       "      <td>68.479947</td>\n",
       "    </tr>\n",
       "    <tr>\n",
       "      <th>9999</th>\n",
       "      <td>NON-VIOLENT</td>\n",
       "      <td>8.189069</td>\n",
       "    </tr>\n",
       "  </tbody>\n",
       "</table>\n",
       "<p>10000 rows × 2 columns</p>\n",
       "</div>"
      ],
      "text/plain": [
       "     Violence Status       Temp\n",
       "0        NON-VIOLENT  44.425220\n",
       "1            VIOLENT  -8.674899\n",
       "2            VIOLENT  22.898026\n",
       "3            VIOLENT  27.636420\n",
       "4        NON-VIOLENT  27.661422\n",
       "...              ...        ...\n",
       "9995         VIOLENT  36.494386\n",
       "9996     NON-VIOLENT  64.575210\n",
       "9997     NON-VIOLENT  34.729582\n",
       "9998     NON-VIOLENT  68.479947\n",
       "9999     NON-VIOLENT   8.189069\n",
       "\n",
       "[10000 rows x 2 columns]"
      ]
     },
     "execution_count": 15,
     "metadata": {},
     "output_type": "execute_result"
    }
   ],
   "source": [
    "sample_df = merged_df.sample(10000).reset_index()\n",
    "sample_df = sample_df.drop(columns='index')\n",
    "sample_df"
   ]
  },
  {
   "cell_type": "code",
   "execution_count": 25,
   "id": "75da52bd",
   "metadata": {},
   "outputs": [],
   "source": [
    "y = sample_df['Violence Status']\n",
    "X = sample_df[['Temp']]"
   ]
  },
  {
   "cell_type": "code",
   "execution_count": 26,
   "id": "5daf2258",
   "metadata": {},
   "outputs": [],
   "source": [
    "X_train,X_test,y_train,y_test = train_test_split(X,y, random_state=42)"
   ]
  },
  {
   "cell_type": "code",
   "execution_count": 18,
   "id": "7a940e30",
   "metadata": {
    "scrolled": false
   },
   "outputs": [],
   "source": [
    "#merged_df.plot.scatter('Temp','Violence Status')"
   ]
  },
  {
   "cell_type": "code",
   "execution_count": 27,
   "id": "24c48647",
   "metadata": {},
   "outputs": [
    {
     "name": "stdout",
     "output_type": "stream",
     "text": [
      "Training Data Score: 0.6488\n",
      "Testing Data Score: 0.6568\n"
     ]
    }
   ],
   "source": [
    "# Create a logistic regression model, fit (train) the model, and validate the model.\n",
    "classifier = LogisticRegression()\n",
    "classifier.fit(X_train, y_train)\n",
    "print(f\"Training Data Score: {classifier.score(X_train, y_train)}\")\n",
    "print(f\"Testing Data Score: {classifier.score(X_test, y_test)}\")"
   ]
  },
  {
   "cell_type": "code",
   "execution_count": 28,
   "id": "d8dcc84a",
   "metadata": {},
   "outputs": [
    {
     "data": {
      "text/html": [
       "<div>\n",
       "<style scoped>\n",
       "    .dataframe tbody tr th:only-of-type {\n",
       "        vertical-align: middle;\n",
       "    }\n",
       "\n",
       "    .dataframe tbody tr th {\n",
       "        vertical-align: top;\n",
       "    }\n",
       "\n",
       "    .dataframe thead th {\n",
       "        text-align: right;\n",
       "    }\n",
       "</style>\n",
       "<table border=\"1\" class=\"dataframe\">\n",
       "  <thead>\n",
       "    <tr style=\"text-align: right;\">\n",
       "      <th></th>\n",
       "      <th>Predicted Violent</th>\n",
       "      <th>Predicted Non-Violent</th>\n",
       "    </tr>\n",
       "  </thead>\n",
       "  <tbody>\n",
       "    <tr>\n",
       "      <th>Actual Violent</th>\n",
       "      <td>1642</td>\n",
       "      <td>0</td>\n",
       "    </tr>\n",
       "    <tr>\n",
       "      <th>Actual Non-Violent</th>\n",
       "      <td>858</td>\n",
       "      <td>0</td>\n",
       "    </tr>\n",
       "  </tbody>\n",
       "</table>\n",
       "</div>"
      ],
      "text/plain": [
       "                    Predicted Violent  Predicted Non-Violent\n",
       "Actual Violent                   1642                      0\n",
       "Actual Non-Violent                858                      0"
      ]
     },
     "execution_count": 28,
     "metadata": {},
     "output_type": "execute_result"
    }
   ],
   "source": [
    "# Create a confusion matrix and print out the confusion matrix for the predicted outcome.\n",
    "y_true = y_test\n",
    "y_pred = classifier.predict(X_test)\n",
    "cm = confusion_matrix(y_true, y_pred)\n",
    "# Create a DataFrame from the confusion matrix.\n",
    "cm_df = pd.DataFrame(\n",
    "    cm, index=[\"Actual Violent\", \"Actual Non-Violent\"], columns=[\"Predicted Violent\", \"Predicted Non-Violent\"])\n",
    "\n",
    "cm_df"
   ]
  },
  {
   "cell_type": "code",
   "execution_count": 21,
   "id": "f2bff17d",
   "metadata": {},
   "outputs": [
    {
     "name": "stdout",
     "output_type": "stream",
     "text": [
      "              precision    recall  f1-score   support\n",
      "\n",
      " NON-VIOLENT       0.66      1.00      0.79      1642\n",
      "     VIOLENT       0.00      0.00      0.00       858\n",
      "\n",
      "    accuracy                           0.66      2500\n",
      "   macro avg       0.33      0.50      0.40      2500\n",
      "weighted avg       0.43      0.66      0.52      2500\n",
      "\n"
     ]
    },
    {
     "name": "stderr",
     "output_type": "stream",
     "text": [
      "C:\\Users\\kyobu\\anaconda3\\envs\\mlenv\\lib\\site-packages\\sklearn\\metrics\\_classification.py:1308: UndefinedMetricWarning: Precision and F-score are ill-defined and being set to 0.0 in labels with no predicted samples. Use `zero_division` parameter to control this behavior.\n",
      "  _warn_prf(average, modifier, msg_start, len(result))\n",
      "C:\\Users\\kyobu\\anaconda3\\envs\\mlenv\\lib\\site-packages\\sklearn\\metrics\\_classification.py:1308: UndefinedMetricWarning: Precision and F-score are ill-defined and being set to 0.0 in labels with no predicted samples. Use `zero_division` parameter to control this behavior.\n",
      "  _warn_prf(average, modifier, msg_start, len(result))\n",
      "C:\\Users\\kyobu\\anaconda3\\envs\\mlenv\\lib\\site-packages\\sklearn\\metrics\\_classification.py:1308: UndefinedMetricWarning: Precision and F-score are ill-defined and being set to 0.0 in labels with no predicted samples. Use `zero_division` parameter to control this behavior.\n",
      "  _warn_prf(average, modifier, msg_start, len(result))\n"
     ]
    }
   ],
   "source": [
    "print(classification_report(y_true, y_pred))"
   ]
  },
  {
   "cell_type": "code",
   "execution_count": null,
   "id": "5417e63f",
   "metadata": {},
   "outputs": [],
   "source": []
  },
  {
   "cell_type": "code",
   "execution_count": null,
   "id": "0f652566",
   "metadata": {},
   "outputs": [],
   "source": []
  },
  {
   "cell_type": "code",
   "execution_count": null,
   "id": "450c014d",
   "metadata": {},
   "outputs": [],
   "source": []
  },
  {
   "cell_type": "code",
   "execution_count": null,
   "id": "37ff1c27",
   "metadata": {},
   "outputs": [],
   "source": []
  }
 ],
 "metadata": {
  "kernelspec": {
   "display_name": "mlenv",
   "language": "python",
   "name": "mlenv"
  },
  "language_info": {
   "codemirror_mode": {
    "name": "ipython",
    "version": 3
   },
   "file_extension": ".py",
   "mimetype": "text/x-python",
   "name": "python",
   "nbconvert_exporter": "python",
   "pygments_lexer": "ipython3",
   "version": "3.7.11"
  }
 },
 "nbformat": 4,
 "nbformat_minor": 5
}
